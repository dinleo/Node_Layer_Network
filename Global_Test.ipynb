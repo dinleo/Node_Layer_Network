{
 "cells": [
  {
   "cell_type": "markdown",
   "source": [],
   "metadata": {
    "collapsed": false
   }
  },
  {
   "cell_type": "code",
   "execution_count": 58,
   "metadata": {
    "collapsed": true,
    "ExecuteTime": {
     "end_time": "2023-08-11T20:37:26.587069Z",
     "start_time": "2023-08-11T20:37:26.540555300Z"
    }
   },
   "outputs": [],
   "source": [
    "import sys\n",
    "import os\n",
    "\n",
    "from Networks.multi_layer_net_extend import MultiLayerNetExtend as MLE\n",
    "from Networks.simple_convnet import SimpleConvNet as CVS\n",
    "from Networks.CNN import CNN\n",
    "\n",
    "import matplotlib.pyplot as plt\n",
    "from dataset.mnist import load_mnist\n",
    "from Layers.optimizer import *\n",
    "from Layers.util import smooth_curve\n",
    "import cupy as np\n",
    "import time\n"
   ]
  },
  {
   "cell_type": "code",
   "execution_count": 59,
   "outputs": [],
   "source": [
    "(x_train, t_train), (x_test, t_test) = load_mnist(normalize=True)\n",
    "train_size = x_train.shape[0]\n",
    "test_size = x_test.shape[0]\n",
    "batch_size = 128\n",
    "max_iterations = 200\n",
    "print_iter = 10\n",
    "mi = np.arange(max_iterations)"
   ],
   "metadata": {
    "collapsed": false,
    "ExecuteTime": {
     "end_time": "2023-08-11T20:37:26.621066700Z",
     "start_time": "2023-08-11T20:37:26.548556400Z"
    }
   }
  },
  {
   "cell_type": "code",
   "execution_count": 60,
   "outputs": [],
   "source": [
    "def test(test_list, max_acc=None):\n",
    "    networks = {}\n",
    "    train_acc = {}\n",
    "    train_loss = {}\n",
    "    test_acc = {}\n",
    "    test_loss = {}\n",
    "    optimizer = {}\n",
    "    total_step = {}\n",
    "    time_record = {}\n",
    "\n",
    "    for key in test_list.keys():\n",
    "        # 기록 리스트 생성\n",
    "        train_acc[key] = []\n",
    "        train_loss[key] = []\n",
    "        test_acc[key] = []\n",
    "        test_loss[key] = []\n",
    "        total_step[key] = 0\n",
    "        time_record[key] = 0\n",
    "\n",
    "        # nSigmoid 경우 파라미터\n",
    "        # key == 'nSigmoid_8' -> act = nSigmoid, threshold = 8\n",
    "        networks[key] = test_list[key]['network']\n",
    "\n",
    "        # optimizer 생성\n",
    "        opt = test_list[key]['opt']\n",
    "        lr = test_list[key]['lr']\n",
    "        if opt == 'SGD':\n",
    "            optimizer[key] = SGD(lr)\n",
    "        elif opt == 'Momentum':\n",
    "            optimizer[key] = Momentum(lr)\n",
    "        elif opt == 'AdaGrad':\n",
    "            optimizer[key] = AdaGrad(lr)\n",
    "        elif opt == 'Adam':\n",
    "            optimizer[key] = Adam(lr)\n",
    "        else:\n",
    "            assert 'no opt' + opt\n",
    "\n",
    "    # 파라미터 통일 셋팅\n",
    "    # networks1 = networks['1']\n",
    "    # networks2 = networks['2']\n",
    "    # for k in networks1.params.keys():\n",
    "    #     for i in range(networks1.params[k].shape[0]):\n",
    "    #         networks1.params[k][i] = networks2.params[k][i].copy()\n",
    "    # print(np.max(networks['1'].params['W1'] - networks['2'].params['W1']))\n",
    "    # 학습\n",
    "    for i in range(max_iterations):\n",
    "        if 0 not in total_step.values():\n",
    "            print(\"All test list training Done\\nStep: \" + str(i))\n",
    "            break\n",
    "\n",
    "        # mini-batch train\n",
    "        batch_mask = np.random.choice(train_size, batch_size)\n",
    "        x_batch = x_train[batch_mask]\n",
    "        t_batch = t_train[batch_mask]\n",
    "\n",
    "        # mini-batch test\n",
    "        batch_mask_t = np.random.choice(test_size, batch_size)\n",
    "        x_batch_t = x_test[batch_mask_t]\n",
    "        t_batch_t = t_test[batch_mask_t]\n",
    "\n",
    "        # print_iter 회마다 경과 출력\n",
    "        if i % print_iter == 0:\n",
    "            print( \"=\"*15 + \"iteration:\" + str(i) + \"=\"*15)\n",
    "            print(\"{:^9}|{:^9}|{:^9}|{:^9}\".format('model','time','acc','loss'))\n",
    "\n",
    "        # 학습 & 추론 & 기록\n",
    "        for key in test_list.keys():\n",
    "            if total_step[key] != 0:\n",
    "                # Max acc 에 도달해 학습이 끝난 test model\n",
    "                continue\n",
    "            else:\n",
    "                start = time.time()\n",
    "                # CV 모델 데이터 처리\n",
    "                if isinstance(networks[key], (CVS, CNN)):\n",
    "                    x_batch = x_batch.reshape(-1, 1, 28, 28)\n",
    "                    x_batch_t = x_batch_t.reshape(-1, 1, 28, 28)\n",
    "\n",
    "                # 학습(역전파)\n",
    "                grads = networks[key].gradient(x_batch, t_batch)\n",
    "                optimizer[key].update(networks[key].params, grads)\n",
    "\n",
    "                # 추론(순전파)\n",
    "                tr_acc, tr_loss = networks[key].acc_and_loss(x_batch, t_batch)\n",
    "                ts_acc, ts_loss = networks[key].acc_and_loss(x_batch_t, t_batch_t)\n",
    "\n",
    "                # 기록\n",
    "                train_acc[key].append(tr_acc.get())\n",
    "                train_loss[key].append(tr_loss.get())\n",
    "                test_acc[key].append(ts_acc.get())\n",
    "                test_loss[key].append(ts_loss.get())\n",
    "                end = time.time()\n",
    "                time_record[key] += (end-start)\n",
    "\n",
    "                # max accuracy 도달 해당 모델 학습 종료\n",
    "                if max_acc and max_acc <= ts_acc:\n",
    "                    total_step[key] = i\n",
    "                    print(key + \" training end!\\nacc : \" + str(ts_acc) + \" step: \" + str(i))\n",
    "\n",
    "                # print_iter 회마다 경과 출력\n",
    "                if i % print_iter == 0:\n",
    "                    print(\"{:^9}| {:0<7.3f} | {:0<.5f} | {:0<.5f}\".format(key, time_record[key], ts_acc, ts_loss))\n",
    "\n",
    "    return train_acc, train_loss, test_acc, test_loss, total_step\n",
    "\n",
    "\n",
    "def plot(label, datas, t_list, *y_lim):\n",
    "    for key in t_list:\n",
    "        plt.plot(smooth_curve(datas[key]), markevery=50, label=key)\n",
    "    plt.xlabel(\"iterations\")\n",
    "    plt.ylabel(label)\n",
    "    if y_lim:\n",
    "        plt.ylim(y_lim)\n",
    "    plt.legend()\n",
    "    plt.show()"
   ],
   "metadata": {
    "collapsed": false,
    "ExecuteTime": {
     "end_time": "2023-08-11T20:37:26.635068Z",
     "start_time": "2023-08-11T20:37:26.618067800Z"
    }
   }
  },
  {
   "cell_type": "code",
   "execution_count": 61,
   "outputs": [],
   "source": [
    "net1 = MLE(input_size=784, hidden_size_list=[100, 100, 100, 100], output_size=10,\n",
    "            use_dropout=False, dropout_ratio=0.5, use_batchnorm=True)\n",
    "# net2 = MLE(input_size=784, hidden_size_list=[100, 100, 100, 100], output_size=10,\n",
    "#             use_dropout=True, dropout_ratio=0.5, use_batchnorm=False)\n",
    "# net1 = CVD(use_batchnorm=True)\n",
    "net2 = CNN(model='CVD', use_batchnorm=True)\n",
    "# net3 = CNN(model='CVD', use_batchnorm=True)\n",
    "net3 = CNN(model='VGG16', use_batchnorm=True)\n",
    "# net4 = CNN(dropout_ratio=0.5, use_batchnorm=True)"
   ],
   "metadata": {
    "collapsed": false,
    "ExecuteTime": {
     "end_time": "2023-08-11T20:37:26.648073600Z",
     "start_time": "2023-08-11T20:37:26.626069400Z"
    }
   }
  },
  {
   "cell_type": "code",
   "execution_count": 62,
   "outputs": [
    {
     "name": "stdout",
     "output_type": "stream",
     "text": [
      "===============iteration:0===============\n",
      "  model  |  time   |   acc   |  loss   \n",
      "   MLP   | 0.08800 | 0.24219 | 12.00450\n",
      "   CNN   | 1.28800 | 0.17188 | 4.25265\n",
      "  VGG16  | 8.33400 | 0.17188 | 13.01318\n",
      "===============iteration:10===============\n",
      "  model  |  time   |   acc   |  loss   \n",
      "   MLP   | 0.86300 | 0.83594 | 0.53389\n",
      "   CNN   | 10.8810 | 0.60156 | 1.36780\n",
      "  VGG16  | 94.4510 | 0.14844 | 13.72557\n",
      "===============iteration:20===============\n",
      "  model  |  time   |   acc   |  loss   \n",
      "   MLP   | 1.65400 | 0.89844 | 0.33817\n",
      "   CNN   | 20.9780 | 0.74219 | 1.02817\n",
      "  VGG16  | 181.595 | 0.09375 | 14.60702\n",
      "===============iteration:30===============\n",
      "  model  |  time   |   acc   |  loss   \n",
      "   MLP   | 2.40400 | 0.90625 | 0.30972\n",
      "   CNN   | 30.7990 | 0.75781 | 0.75095\n",
      "  VGG16  | 266.569 | 0.09375 | 14.60702\n",
      "===============iteration:40===============\n",
      "  model  |  time   |   acc   |  loss   \n",
      "   MLP   | 3.14900 | 0.88281 | 0.41419\n",
      "   CNN   | 40.0040 | 0.77344 | 0.61828\n",
      "  VGG16  | 355.074 | 0.06250 | 15.11071\n",
      "===============iteration:50===============\n",
      "  model  |  time   |   acc   |  loss   \n",
      "   MLP   | 3.90600 | 0.94531 | 0.21915\n",
      "   CNN   | 49.3220 | 0.82812 | 0.54621\n",
      "  VGG16  | 442.315 | 0.10938 | 14.35518\n",
      "===============iteration:60===============\n",
      "  model  |  time   |   acc   |  loss   \n",
      "   MLP   | 4.62700 | 0.92969 | 0.25518\n",
      "   CNN   | 58.8240 | 0.82812 | 0.44139\n",
      "  VGG16  | 528.336 | 0.10938 | 14.35518\n",
      "===============iteration:70===============\n",
      "  model  |  time   |   acc   |  loss   \n",
      "   MLP   | 5.34900 | 0.95312 | 0.16894\n",
      "   CNN   | 68.4210 | 0.78906 | 0.43917\n",
      "  VGG16  | 616.382 | 0.07812 | 14.85887\n",
      "===============iteration:80===============\n",
      "  model  |  time   |   acc   |  loss   \n",
      "   MLP   | 6.06000 | 0.93750 | 0.15241\n",
      "   CNN   | 78.3890 | 0.89844 | 0.31133\n",
      "  VGG16  | 704.953 | 0.09375 | 14.60702\n",
      "CNN training end!\n",
      "acc : 0.984375 step: 87\n",
      "===============iteration:90===============\n",
      "  model  |  time   |   acc   |  loss   \n",
      "   MLP   | 6.82000 | 0.97656 | 0.13405\n",
      "  VGG16  | 794.877 | 0.10156 | 14.48110\n",
      "===============iteration:100===============\n",
      "  model  |  time   |   acc   |  loss   \n",
      "   MLP   | 7.58200 | 0.93750 | 0.19046\n",
      "  VGG16  | 885.829 | 0.15625 | 13.59964\n",
      "===============iteration:110===============\n",
      "  model  |  time   |   acc   |  loss   \n",
      "   MLP   | 8.30600 | 0.89844 | 0.37057\n",
      "  VGG16  | 974.720 | 0.09375 | 14.60702\n",
      "===============iteration:120===============\n",
      "  model  |  time   |   acc   |  loss   \n",
      "MLP training end!\n",
      "acc : 0.984375 step: 120\n",
      "   MLP   | 9.04500 | 0.98438 | 0.06932\n",
      "  VGG16  | 1065.367 | 0.08594 | 14.73295\n",
      "===============iteration:130===============\n",
      "  model  |  time   |   acc   |  loss   \n",
      "  VGG16  | 1157.689 | 0.08594 | 14.73295\n",
      "===============iteration:140===============\n",
      "  model  |  time   |   acc   |  loss   \n",
      "  VGG16  | 1247.286 | 0.09375 | 14.60702\n",
      "===============iteration:150===============\n",
      "  model  |  time   |   acc   |  loss   \n",
      "  VGG16  | 1335.857 | 0.11719 | 14.22926\n",
      "===============iteration:160===============\n",
      "  model  |  time   |   acc   |  loss   \n",
      "  VGG16  | 1425.028 | 0.05469 | 15.23664\n",
      "===============iteration:170===============\n",
      "  model  |  time   |   acc   |  loss   \n",
      "  VGG16  | 1515.384 | 0.09375 | 14.60702\n",
      "===============iteration:180===============\n",
      "  model  |  time   |   acc   |  loss   \n",
      "  VGG16  | 1606.397 | 0.10156 | 14.48110\n",
      "===============iteration:190===============\n",
      "  model  |  time   |   acc   |  loss   \n",
      "  VGG16  | 1697.373 | 0.10938 | 14.35518\n"
     ]
    }
   ],
   "source": [
    "test_list = {\n",
    "             'MLP':\n",
    "                 {'network':net1,'opt':'AdaGrad','lr':0.01},\n",
    "             'CNN':\n",
    "                 {'network':net2,'opt':'AdaGrad','lr':0.01},\n",
    "             'VGG16':\n",
    "                 {'network':net3,'opt':'AdaGrad','lr':0.01},\n",
    "             # 'CNN_both':\n",
    "             #     {'network':net4,'opt':'AdaGrad','lr':0.01},\n",
    "             }\n",
    "\n",
    "# train_acc, train_loss, test_acc, test_loss, total_step = test(test_list)\n",
    "train_acc, train_loss, test_acc, test_loss, total_step = test(test_list, 0.98)"
   ],
   "metadata": {
    "collapsed": false,
    "ExecuteTime": {
     "end_time": "2023-08-11T21:08:38.503489Z",
     "start_time": "2023-08-11T20:37:26.644072200Z"
    }
   }
  },
  {
   "cell_type": "code",
   "execution_count": 63,
   "outputs": [
    {
     "data": {
      "text/plain": "<Figure size 432x288 with 1 Axes>",
      "image/png": "[encoded data removed]"
     },
     "metadata": {
      "needs_background": "light"
     },
     "output_type": "display_data"
    }
   ],
   "source": [
    "plot('test_acc', test_acc , test_list)"
   ],
   "metadata": {
    "collapsed": false,
    "ExecuteTime": {
     "end_time": "2023-08-11T21:08:38.624415Z",
     "start_time": "2023-08-11T21:08:38.508488500Z"
    }
   }
  },
  {
   "cell_type": "code",
   "execution_count": 64,
   "outputs": [
    {
     "data": {
      "text/plain": "<Figure size 432x288 with 1 Axes>",
      "image/png": "[encoded data removed]"
     },
     "metadata": {
      "needs_background": "light"
     },
     "output_type": "display_data"
    }
   ],
   "source": [
    "plot('test_loss', test_loss, test_list)"
   ],
   "metadata": {
    "collapsed": false,
    "ExecuteTime": {
     "end_time": "2023-08-11T21:08:38.760022600Z",
     "start_time": "2023-08-11T21:08:38.626415700Z"
    }
   }
  },
  {
   "cell_type": "code",
   "execution_count": 65,
   "outputs": [
    {
     "name": "stdout",
     "output_type": "stream",
     "text": [
      "{'MLP': 120, 'CNN': 87, 'VGG16': 0}\n"
     ]
    }
   ],
   "source": [
    "print(total_step)"
   ],
   "metadata": {
    "collapsed": false,
    "ExecuteTime": {
     "end_time": "2023-08-11T21:08:38.811748Z",
     "start_time": "2023-08-11T21:08:38.761025800Z"
    }
   }
  }
 ],
 "metadata": {
  "kernelspec": {
   "display_name": "Python 3",
   "language": "python",
   "name": "python3"
  },
  "language_info": {
   "codemirror_mode": {
    "name": "ipython",
    "version": 2
   },
   "file_extension": ".py",
   "mimetype": "text/x-python",
   "name": "python",
   "nbconvert_exporter": "python",
   "pygments_lexer": "ipython2",
   "version": "2.7.6"
  }
 },
 "nbformat": 4,
 "nbformat_minor": 0
}

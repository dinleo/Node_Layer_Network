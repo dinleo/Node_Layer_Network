{
 "cells": [
  {
   "cell_type": "markdown",
   "source": [],
   "metadata": {
    "collapsed": false
   }
  },
  {
   "cell_type": "code",
   "execution_count": 1,
   "metadata": {
    "collapsed": true,
    "ExecuteTime": {
     "end_time": "2023-10-08T11:51:33.995837500Z",
     "start_time": "2023-10-08T11:51:32.348215700Z"
    }
   },
   "outputs": [],
   "source": [
    "import sys\n",
    "import os\n",
    "\n",
    "from Networks.MLP import MLP\n",
    "from Networks.CNN import CNN\n",
    "\n",
    "import matplotlib.pyplot as plt\n",
    "from dataset.mnist import load_mnist\n",
    "from Layers.optimizer import *\n",
    "from Layers.util import smooth_curve\n",
    "try:\n",
    "    import cupy as np\n",
    "    py = 'cupy'\n",
    "except ImportError:\n",
    "    import numpy as np\n",
    "    py = 'numpy'\n",
    "import time\n",
    "#\n"
   ]
  },
  {
   "cell_type": "code",
   "execution_count": 2,
   "outputs": [],
   "source": [
    "(x_train, t_train), (x_test, t_test) = load_mnist(normalize=True)\n",
    "train_size = x_train.shape[0]\n",
    "test_size = x_test.shape[0]\n",
    "batch_size = 128\n",
    "max_iterations = 200\n",
    "print_iter = 10\n",
    "mi = np.arange(max_iterations)"
   ],
   "metadata": {
    "collapsed": false,
    "ExecuteTime": {
     "end_time": "2023-10-08T11:51:34.325933800Z",
     "start_time": "2023-10-08T11:51:33.998839400Z"
    }
   }
  },
  {
   "cell_type": "code",
   "execution_count": 3,
   "outputs": [],
   "source": [
    "print(t_train)"
   ],
   "metadata": {
    "collapsed": false,
    "ExecuteTime": {
     "end_time": "2023-10-08T11:51:34.358938700Z",
     "start_time": "2023-10-08T11:51:34.327938Z"
    }
   }
  },
  {
   "cell_type": "code",
   "execution_count": 4,
   "outputs": [],
   "source": [
    "def test(test_list, max_acc=None):\n",
    "    networks = {}\n",
    "    train_acc = {}\n",
    "    train_loss = {}\n",
    "    test_acc = {}\n",
    "    test_loss = {}\n",
    "    optimizer = {}\n",
    "    total_step = {}\n",
    "    time_record = {}\n",
    "    print('Training with [' + py + ']\\n')\n",
    "    for key in test_list.keys():\n",
    "        # 기록 리스트 생성\n",
    "        train_acc[key] = []\n",
    "        train_loss[key] = []\n",
    "        test_acc[key] = []\n",
    "        test_loss[key] = []\n",
    "        total_step[key] = 0\n",
    "        time_record[key] = 0\n",
    "\n",
    "        # nSigmoid 경우 파라미터\n",
    "        # key == 'nSigmoid_8' -> act = nSigmoid, threshold = 8\n",
    "        networks[key] = test_list[key]['network']\n",
    "\n",
    "        # optimizer 생성\n",
    "        opt = test_list[key]['opt']\n",
    "        lr = test_list[key]['lr']\n",
    "        if opt == 'SGD':\n",
    "            optimizer[key] = SGD(lr)\n",
    "        elif opt == 'Momentum':\n",
    "            optimizer[key] = Momentum(lr)\n",
    "        elif opt == 'AdaGrad':\n",
    "            optimizer[key] = AdaGrad(lr)\n",
    "        elif opt == 'Adam':\n",
    "            optimizer[key] = Adam(lr)\n",
    "        else:\n",
    "            assert 'no opt' + opt\n",
    "\n",
    "    # 파라미터 통일 셋팅\n",
    "    # networks1 = networks['1']\n",
    "    # networks2 = networks['2']\n",
    "    # for k in networks1.params.keys():\n",
    "    #     for i in range(networks1.params[k].shape[0]):\n",
    "    #         networks1.params[k][i] = networks2.params[k][i].copy()\n",
    "    # print(np.max(networks['1'].params['W1'] - networks['2'].params['W1']))\n",
    "    # 학습\n",
    "    for i in range(max_iterations):\n",
    "        if 0 not in total_step.values():\n",
    "            print(\"All test list training Done\\nStep: \" + str(i))\n",
    "            break\n",
    "\n",
    "        # mini-batch train\n",
    "        batch_mask = np.random.choice(train_size, batch_size)\n",
    "        x_batch = x_train[batch_mask]\n",
    "        t_batch = t_train[batch_mask]\n",
    "\n",
    "        # mini-batch test\n",
    "        batch_mask_t = np.random.choice(test_size, batch_size)\n",
    "        x_batch_t = x_test[batch_mask_t]\n",
    "        t_batch_t = t_test[batch_mask_t]\n",
    "\n",
    "        # print_iter 회마다 경과 출력\n",
    "        if i % print_iter == 0:\n",
    "            print( \"=\"*15 + \"iteration:\" + str(i) + \"=\"*15)\n",
    "            print(\"{:^9}|{:^9}|{:^9}|{:^9}\".format('model','time','acc','loss'))\n",
    "\n",
    "        # 학습 & 추론 & 기록\n",
    "        for key in test_list.keys():\n",
    "            if total_step[key] != 0:\n",
    "                # Max acc 에 도달해 학습이 끝난 test model\n",
    "                continue\n",
    "            else:\n",
    "                start = time.time()\n",
    "                # CV 모델 데이터 처리\n",
    "                if isinstance(networks[key], CNN):\n",
    "                    x_batch = x_batch.reshape(-1, 1, 28, 28)\n",
    "                    x_batch_t = x_batch_t.reshape(-1, 1, 28, 28)\n",
    "\n",
    "                # 학습(역전파)\n",
    "                grads = networks[key].gradient(x_batch, t_batch)\n",
    "                optimizer[key].update(networks[key].params, grads)\n",
    "\n",
    "                # 추론(순전파)\n",
    "                tr_acc, tr_loss = networks[key].acc_and_loss(x_batch, t_batch)\n",
    "                ts_acc, ts_loss = networks[key].acc_and_loss(x_batch_t, t_batch_t)\n",
    "\n",
    "                # 기록\n",
    "                if py == 'cupy':\n",
    "                    tr_acc = tr_acc.get()\n",
    "                    tr_loss = tr_loss.get()\n",
    "                    ts_acc = ts_acc.get()\n",
    "                    ts_loss = ts_loss.get()\n",
    "                train_acc[key].append(tr_acc)\n",
    "                train_loss[key].append(tr_loss)\n",
    "                test_acc[key].append(ts_acc)\n",
    "                test_loss[key].append(ts_loss)\n",
    "                end = time.time()\n",
    "                time_record[key] += (end-start)\n",
    "\n",
    "                # max accuracy 도달 해당 모델 학습 종료\n",
    "                if max_acc and max_acc <= ts_acc:\n",
    "                    total_step[key] = i\n",
    "                    print(key + \" training end!\\nacc : \" + str(ts_acc) + \" step: \" + str(i))\n",
    "\n",
    "                # print_iter 회마다 경과 출력\n",
    "                if i % print_iter == 0:\n",
    "                    print(\"{:^9}| {:0<7.3f} | {:0<.5f} | {:0<.5f}\".format(key, time_record[key], ts_acc, ts_loss))\n",
    "\n",
    "    return train_acc, train_loss, test_acc, test_loss, total_step\n",
    "\n",
    "\n",
    "def plot(label, datas, t_list, *y_lim):\n",
    "    for key in t_list:\n",
    "        plt.plot(smooth_curve(datas[key]), markevery=50, label=key)\n",
    "    plt.xlabel(\"iterations\")\n",
    "    plt.ylabel(label)\n",
    "    if y_lim:\n",
    "        plt.ylim(y_lim)\n",
    "    plt.legend()\n",
    "    plt.show()"
   ],
   "metadata": {
    "collapsed": false,
    "ExecuteTime": {
     "end_time": "2023-10-08T11:51:34.431937200Z",
     "start_time": "2023-10-08T11:51:34.357937100Z"
    }
   }
  },
  {
   "cell_type": "code",
   "execution_count": 5,
   "outputs": [],
   "source": [
    "net1 = MLP(input_size=784, hidden_size_list=[100, 100, 100, 100], output_size=10,\n",
    "           use_dropout=False, dropout_ratio=0.5, use_batchnorm=True)\n",
    "# net1 = MLP(input_size=784, hidden_size_list=[100, 100, 100, 100], output_size=10,\n",
    "#             use_dropout=True, dropout_ratio=0.5, use_batchnorm=False)\n",
    "net2 = CNN(model='CNN3', use_batchnorm=True)\n",
    "net3 = CNN(model='CNN8', use_batchnorm=True)\n",
    "# net3 = CNN(model='VGG11', use_batchnorm=True)\n",
    "# net4 = CNN(dropout_ratio=0.5, use_batchnorm=True)"
   ],
   "metadata": {
    "collapsed": false,
    "ExecuteTime": {
     "end_time": "2023-10-08T11:51:34.475935500Z",
     "start_time": "2023-10-08T11:51:34.432964700Z"
    }
   }
  },
  {
   "cell_type": "code",
   "execution_count": 7,
   "outputs": [
    {
     "name": "stdout",
     "output_type": "stream",
     "text": [
      "Training with [cupy]\n",
      "\n",
      "===============iteration:0===============\n",
      "  model  |  time   |   acc   |  loss   \n",
      "   CNN   | 8.73100 | 0.12500 | 12.39902\n",
      "===============iteration:10===============\n",
      "  model  |  time   |   acc   |  loss   \n",
      "   CNN   | 9.89700 | 0.51562 | 7.02406\n",
      "===============iteration:20===============\n",
      "  model  |  time   |   acc   |  loss   \n",
      "   CNN   | 11.0600 | 0.60938 | 5.88260\n",
      "===============iteration:30===============\n",
      "  model  |  time   |   acc   |  loss   \n",
      "   CNN   | 12.2150 | 0.55469 | 6.46040\n",
      "===============iteration:40===============\n",
      "  model  |  time   |   acc   |  loss   \n",
      "   CNN   | 13.3210 | 0.53906 | 6.90243\n",
      "===============iteration:50===============\n",
      "  model  |  time   |   acc   |  loss   \n",
      "   CNN   | 14.4440 | 0.64844 | 5.36304\n",
      "===============iteration:60===============\n",
      "  model  |  time   |   acc   |  loss   \n",
      "   CNN   | 15.5720 | 0.57031 | 6.46090\n",
      "===============iteration:70===============\n",
      "  model  |  time   |   acc   |  loss   \n",
      "   CNN   | 16.6770 | 0.58594 | 6.55472\n",
      "===============iteration:80===============\n",
      "  model  |  time   |   acc   |  loss   \n",
      "   CNN   | 17.8180 | 0.46094 | 8.37818\n",
      "===============iteration:90===============\n",
      "  model  |  time   |   acc   |  loss   \n",
      "   CNN   | 18.9670 | 0.55469 | 6.24169\n",
      "===============iteration:100===============\n",
      "  model  |  time   |   acc   |  loss   \n",
      "   CNN   | 20.1030 | 0.64844 | 4.46507\n",
      "===============iteration:110===============\n",
      "  model  |  time   |   acc   |  loss   \n",
      "   CNN   | 21.2390 | 0.63281 | 5.06424\n",
      "===============iteration:120===============\n",
      "  model  |  time   |   acc   |  loss   \n",
      "   CNN   | 22.3660 | 0.64844 | 5.14026\n",
      "===============iteration:130===============\n",
      "  model  |  time   |   acc   |  loss   \n",
      "   CNN   | 23.5330 | 0.66406 | 4.69479\n",
      "===============iteration:140===============\n",
      "  model  |  time   |   acc   |  loss   \n",
      "   CNN   | 24.6510 | 0.71094 | 4.41618\n",
      "===============iteration:150===============\n",
      "  model  |  time   |   acc   |  loss   \n",
      "   CNN   | 25.7610 | 0.72656 | 3.89806\n",
      "===============iteration:160===============\n",
      "  model  |  time   |   acc   |  loss   \n",
      "   CNN   | 26.8600 | 0.72656 | 4.07743\n",
      "===============iteration:170===============\n",
      "  model  |  time   |   acc   |  loss   \n",
      "   CNN   | 27.9860 | 0.66406 | 5.10567\n",
      "===============iteration:180===============\n",
      "  model  |  time   |   acc   |  loss   \n",
      "   CNN   | 29.1190 | 0.53125 | 6.78555\n",
      "===============iteration:190===============\n",
      "  model  |  time   |   acc   |  loss   \n",
      "   CNN   | 30.2420 | 0.76562 | 3.62879\n"
     ]
    }
   ],
   "source": [
    "test_list = {\n",
    "             # 'MLP':\n",
    "             #     {'network':net1,'opt':'AdaGrad','lr':0.01},\n",
    "             # 'SCV':\n",
    "             #     {'network':net2,'opt':'AdaGrad','lr':0.01},\n",
    "             'CNN':\n",
    "                 {'network':net2,'opt':'AdaGrad','lr':0.01},\n",
    "             # 'CNN_both':\n",
    "             #     {'network':net4,'opt':'AdaGrad','lr':0.01},\n",
    "             }\n",
    "\n",
    "# train_acc, train_loss, test_acc, test_loss, total_step = test(test_list)\n",
    "train_acc, train_loss, test_acc, test_loss, total_step = test(test_list, 0.98)"
   ],
   "metadata": {
    "collapsed": false,
    "ExecuteTime": {
     "end_time": "2023-10-08T11:52:19.479276900Z",
     "start_time": "2023-10-08T11:51:47.949096200Z"
    }
   }
  },
  {
   "cell_type": "code",
   "execution_count": null,
   "outputs": [],
   "source": [
    "plot('test_acc', test_acc , test_list)"
   ],
   "metadata": {
    "collapsed": false,
    "ExecuteTime": {
     "start_time": "2023-10-08T11:51:34.493935600Z"
    }
   }
  },
  {
   "cell_type": "code",
   "execution_count": null,
   "outputs": [],
   "source": [
    "plot('test_loss', test_loss, test_list)"
   ],
   "metadata": {
    "collapsed": false,
    "ExecuteTime": {
     "start_time": "2023-10-08T11:51:34.494935500Z"
    }
   }
  },
  {
   "cell_type": "code",
   "execution_count": null,
   "outputs": [],
   "source": [
    "print(total_step)"
   ],
   "metadata": {
    "collapsed": false,
    "ExecuteTime": {
     "start_time": "2023-10-08T11:51:34.496934900Z"
    }
   }
  }
 ],
 "metadata": {
  "kernelspec": {
   "display_name": "Python 3",
   "language": "python",
   "name": "python3"
  },
  "language_info": {
   "codemirror_mode": {
    "name": "ipython",
    "version": 2
   },
   "file_extension": ".py",
   "mimetype": "text/x-python",
   "name": "python",
   "nbconvert_exporter": "python",
   "pygments_lexer": "ipython2",
   "version": "2.7.6"
  }
 },
 "nbformat": 4,
 "nbformat_minor": 0
}

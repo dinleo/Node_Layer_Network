{
 "cells": [
  {
   "cell_type": "markdown",
   "source": [],
   "metadata": {
    "collapsed": false
   }
  },
  {
   "cell_type": "code",
   "execution_count": 5,
   "metadata": {
    "collapsed": true,
    "ExecuteTime": {
     "end_time": "2023-08-09T10:00:33.988821300Z",
     "start_time": "2023-08-09T10:00:33.970847700Z"
    }
   },
   "outputs": [],
   "source": [
    "import sys\n",
    "import os\n",
    "\n",
    "from Networks.multi_layer_net_extend import MultiLayerNetExtend as MLE\n",
    "from Networks.simple_convnet import SimpleConvNet as CVS\n",
    "from Networks.deep_convnet import DeepConvNet as CVD\n",
    "\n",
    "import matplotlib.pyplot as plt\n",
    "from dataset.mnist import load_mnist\n",
    "from Layers.optimizer import *\n",
    "from Layers.util import smooth_curve\n",
    "import numpy as np\n",
    "import time\n"
   ]
  },
  {
   "cell_type": "code",
   "execution_count": 6,
   "outputs": [],
   "source": [
    "(x_train, t_train), (x_test, t_test) = load_mnist(normalize=True)\n",
    "train_size = x_train.shape[0]\n",
    "test_size = x_test.shape[0]\n",
    "batch_size = 128\n",
    "max_iterations = 100\n",
    "print_iter = 10\n",
    "mi = np.arange(max_iterations)"
   ],
   "metadata": {
    "collapsed": false,
    "ExecuteTime": {
     "end_time": "2023-08-09T10:00:34.108360700Z",
     "start_time": "2023-08-09T10:00:33.975817600Z"
    }
   }
  },
  {
   "cell_type": "code",
   "execution_count": 7,
   "outputs": [],
   "source": [
    "def test(test_list, max_acc=None):\n",
    "    networks = {}\n",
    "    train_acc = {}\n",
    "    train_loss = {}\n",
    "    test_acc = {}\n",
    "    test_loss = {}\n",
    "    optimizer = {}\n",
    "    total_step = {}\n",
    "    time_record = {}\n",
    "\n",
    "    for key in test_list.keys():\n",
    "        # 기록 리스트 생성\n",
    "        train_acc[key] = []\n",
    "        train_loss[key] = []\n",
    "        test_acc[key] = []\n",
    "        test_loss[key] = []\n",
    "        total_step[key] = 0\n",
    "        time_record[key] = 0\n",
    "\n",
    "        # nSigmoid 경우 파라미터\n",
    "        # key == 'nSigmoid_8' -> act = nSigmoid, threshold = 8\n",
    "        model = test_list[key]['model']\n",
    "        opt = test_list[key]['opt']\n",
    "        lr = test_list[key]['lr']\n",
    "\n",
    "\n",
    "        # 네트워크 모델 생성\n",
    "        if model == 'MLE':\n",
    "            act = test_list[key]['act']\n",
    "            std = test_list[key]['std']\n",
    "            dr = test_list[key]['dr']\n",
    "            bn = test_list[key]['bn']\n",
    "            bp = test_list[key]['bp']\n",
    "            do = False\n",
    "            if dr is not None:\n",
    "                do = True\n",
    "            networks[key] = MLE(input_size=784, hidden_size_list=[100, 100, 100, 100],\n",
    "                                output_size=10, use_dropout=do, dropout_ration=dr, activation=act, weight_init_std=std, use_batchnorm=bn, batch_pos=bp)\n",
    "        elif model == 'CVS':\n",
    "            networks[key] = CVS()\n",
    "        elif model == 'CVD':\n",
    "            networks[key] = CVD()\n",
    "        else:\n",
    "            assert 'no model' + model\n",
    "\n",
    "        # optimizer 생성\n",
    "        if opt == 'SGD':\n",
    "            optimizer[key] = SGD(lr)\n",
    "        elif opt == 'AdaGrad':\n",
    "            optimizer[key] = AdaGrad(lr)\n",
    "        elif opt == 'Adam':\n",
    "            optimizer[key] = Adam(lr)\n",
    "        else:\n",
    "            assert 'no opt' + opt\n",
    "\n",
    "    # 파라미터 통일 셋팅\n",
    "    # networks1 = networks['MLE1']\n",
    "    # networks2 = networks['MLE2']\n",
    "    # for k in networks1.params.keys():\n",
    "    #     for i in range(networks1.params[k].shape[0]):\n",
    "    #         networks1.params[k][i] = networks2.params[k][i].copy()\n",
    "\n",
    "    # 학습\n",
    "    for i in range(max_iterations):\n",
    "        # if 0 not in total_step.values():\n",
    "        #     print(\"All test list training Done\\nStep: \" + str(i))\n",
    "        #     break\n",
    "\n",
    "        # mini-batch train\n",
    "        batch_mask = np.random.choice(train_size, batch_size)\n",
    "        x_batch = x_train[batch_mask]\n",
    "        t_batch = t_train[batch_mask]\n",
    "\n",
    "        # mini-batch test\n",
    "        batch_mask_t = np.random.choice(test_size, batch_size)\n",
    "        x_batch_t = x_test[batch_mask_t]\n",
    "        t_batch_t = t_test[batch_mask_t]\n",
    "\n",
    "        # print_iter 회마다 경과 출력\n",
    "        if i % print_iter == 0:\n",
    "            print( \"=\"*15 + \"iteration:\" + str(i) + \"=\"*15)\n",
    "            print(\"{:^9}|{:^9}|{:^9}|{:^9}\".format('model','time','acc','loss'))\n",
    "\n",
    "        # 학습 & 추론 & 기록\n",
    "        for key in test_list.keys():\n",
    "            if total_step[key] != 0:\n",
    "                # Max acc 에 도달해 학습이 끝난 test model\n",
    "                continue\n",
    "            else:\n",
    "                start = time.time()\n",
    "                # CV 모델 데이터 처리\n",
    "                if test_list[key]['model'].startswith('CV'):\n",
    "                    x_batch = x_batch.reshape(-1, 1, 28, 28)\n",
    "                    x_batch_t = x_batch_t.reshape(-1, 1, 28, 28)\n",
    "\n",
    "                # 학습(역전파)\n",
    "                grads = networks[key].gradient(x_batch, t_batch)\n",
    "                optimizer[key].update(networks[key].params, grads)\n",
    "\n",
    "                # 추론(순전파)\n",
    "                tr_acc, tr_loss = networks[key].acc_and_loss(x_batch, t_batch)\n",
    "                ts_acc, ts_loss = networks[key].acc_and_loss(x_batch_t, t_batch_t)\n",
    "\n",
    "                # 기록\n",
    "                train_acc[key].append(tr_acc)\n",
    "                train_loss[key].append(tr_loss)\n",
    "                test_acc[key].append(ts_acc)\n",
    "                test_loss[key].append(ts_loss)\n",
    "                end = time.time()\n",
    "                time_record[key] += (end-start)\n",
    "\n",
    "                # max accuracy 도달 해당 모델 학습 종료\n",
    "                if max_acc and max_acc <= ts_acc:\n",
    "                    total_step[key] = i\n",
    "                    print(key + \" training end!\\nacc : \" + str(ts_acc) + \" step: \" + str(i))\n",
    "\n",
    "                # print_iter 회마다 경과 출력\n",
    "                if i % print_iter == 0:\n",
    "                    print(\"{:^9}| {:0<7.3f} | {:0<.5f} | {:0<.5f}\".format(key, time_record[key],tr_acc,tr_loss))\n",
    "\n",
    "    return train_acc, train_loss, test_acc, test_loss, total_step\n",
    "\n",
    "\n",
    "def plot(label, datas, t_list, *y_lim):\n",
    "    for key in t_list:\n",
    "        plt.plot( smooth_curve(datas[key]), markevery=50, label=key)\n",
    "    plt.xlabel(\"iterations\")\n",
    "    plt.ylabel(label)\n",
    "    if y_lim:\n",
    "        plt.ylim(y_lim)\n",
    "    plt.legend()\n",
    "    plt.show()"
   ],
   "metadata": {
    "collapsed": false,
    "ExecuteTime": {
     "end_time": "2023-08-09T10:00:34.141708500Z",
     "start_time": "2023-08-09T10:00:34.119363200Z"
    }
   }
  },
  {
   "cell_type": "code",
   "execution_count": 8,
   "outputs": [
    {
     "name": "stdout",
     "output_type": "stream",
     "text": [
      "===============iteration:0===============\n",
      "  model  |  time   |   acc   |  loss   \n",
      "   MLE   | 0.01400 | 0.17188 | 2.26166\n",
      "   CVS   | 0.47900 | 0.14844 | 2.24562\n",
      "===============iteration:10===============\n",
      "  model  |  time   |   acc   |  loss   \n",
      "   MLE   | 0.14100 | 0.67188 | 0.94356\n",
      "   CVS   | 5.28900 | 0.67188 | 0.97896\n",
      "===============iteration:20===============\n",
      "  model  |  time   |   acc   |  loss   \n",
      "   MLE   | 0.26500 | 0.78906 | 0.58151\n",
      "   CVS   | 9.68900 | 0.72656 | 0.67903\n",
      "===============iteration:30===============\n",
      "  model  |  time   |   acc   |  loss   \n",
      "   MLE   | 0.39300 | 0.88281 | 0.38781\n",
      "   CVS   | 14.1820 | 0.88281 | 0.50980\n",
      "===============iteration:40===============\n",
      "  model  |  time   |   acc   |  loss   \n",
      "   MLE   | 0.51600 | 0.89844 | 0.34426\n",
      "   CVS   | 18.6380 | 0.86719 | 0.47236\n",
      "===============iteration:50===============\n",
      "  model  |  time   |   acc   |  loss   \n",
      "   MLE   | 0.64100 | 0.89844 | 0.30137\n",
      "   CVS   | 23.2020 | 0.88281 | 0.37849\n",
      "===============iteration:60===============\n",
      "  model  |  time   |   acc   |  loss   \n",
      "   MLE   | 0.76700 | 0.89062 | 0.29880\n",
      "   CVS   | 27.7240 | 0.88281 | 0.39166\n",
      "===============iteration:70===============\n",
      "  model  |  time   |   acc   |  loss   \n",
      "   MLE   | 0.89400 | 0.95312 | 0.25620\n",
      "   CVS   | 32.1650 | 0.92969 | 0.35126\n",
      "===============iteration:80===============\n",
      "  model  |  time   |   acc   |  loss   \n",
      "   MLE   | 1.02000 | 0.97656 | 0.09253\n",
      "   CVS   | 36.6420 | 0.97656 | 0.12080\n",
      "===============iteration:90===============\n",
      "  model  |  time   |   acc   |  loss   \n",
      "   MLE   | 1.14600 | 0.95312 | 0.18690\n",
      "   CVS   | 41.0940 | 0.93750 | 0.26221\n"
     ]
    }
   ],
   "source": [
    "test_list = {\n",
    "             'MLE':\n",
    "                 {'model':'MLE','opt':'AdaGrad','act':'relu','std':'he','dr':None,'bn':False,'bp':1,'lr':0.01},\n",
    "             'CVS':\n",
    "                 {'model':'CVS','opt':'AdaGrad','act':'relu','std':'he','dr':None,'bn':False,'bp':1,'lr':0.01},\n",
    "             }\n",
    "\n",
    "train_acc, train_loss, test_acc, test_loss, total_step = test(test_list)\n",
    "# train_acc, train_loss, test_acc, test_loss, total_step = test(test_list, 0.99)"
   ],
   "metadata": {
    "collapsed": false,
    "ExecuteTime": {
     "end_time": "2023-08-09T10:01:23.567628500Z",
     "start_time": "2023-08-09T10:00:34.141708500Z"
    }
   }
  },
  {
   "cell_type": "code",
   "execution_count": 9,
   "outputs": [
    {
     "data": {
      "text/plain": "<Figure size 432x288 with 1 Axes>",
      "image/png": "[encoded data removed]"
     },
     "metadata": {
      "needs_background": "light"
     },
     "output_type": "display_data"
    }
   ],
   "source": [
    "plot('train_acc', train_acc, test_list)"
   ],
   "metadata": {
    "collapsed": false,
    "ExecuteTime": {
     "end_time": "2023-08-09T10:01:23.568628400Z",
     "start_time": "2023-08-09T10:01:20.596562Z"
    }
   }
  },
  {
   "cell_type": "code",
   "execution_count": 10,
   "outputs": [
    {
     "data": {
      "text/plain": "<Figure size 432x288 with 1 Axes>",
      "image/png": "[encoded data removed]"
     },
     "metadata": {
      "needs_background": "light"
     },
     "output_type": "display_data"
    }
   ],
   "source": [
    "plot('train_loss', train_loss, test_list)"
   ],
   "metadata": {
    "collapsed": false,
    "ExecuteTime": {
     "end_time": "2023-08-09T10:01:23.568628400Z",
     "start_time": "2023-08-09T10:01:20.807947700Z"
    }
   }
  },
  {
   "cell_type": "code",
   "execution_count": 11,
   "outputs": [
    {
     "name": "stdout",
     "output_type": "stream",
     "text": [
      "{'MLE': 0, 'CVS': 0}\n"
     ]
    }
   ],
   "source": [
    "# print(total_step)"
   ],
   "metadata": {
    "collapsed": false,
    "ExecuteTime": {
     "end_time": "2023-08-09T10:01:23.569629600Z",
     "start_time": "2023-08-09T10:01:20.913660Z"
    }
   }
  }
 ],
 "metadata": {
  "kernelspec": {
   "display_name": "Python 3",
   "language": "python",
   "name": "python3"
  },
  "language_info": {
   "codemirror_mode": {
    "name": "ipython",
    "version": 2
   },
   "file_extension": ".py",
   "mimetype": "text/x-python",
   "name": "python",
   "nbconvert_exporter": "python",
   "pygments_lexer": "ipython2",
   "version": "2.7.6"
  }
 },
 "nbformat": 4,
 "nbformat_minor": 0
}

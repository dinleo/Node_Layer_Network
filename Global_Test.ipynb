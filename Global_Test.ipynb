{
 "cells": [
  {
   "cell_type": "markdown",
   "source": [],
   "metadata": {
    "collapsed": false
   }
  },
  {
   "cell_type": "code",
   "execution_count": 6,
   "metadata": {
    "collapsed": true,
    "ExecuteTime": {
     "end_time": "2023-08-11T10:53:02.136382Z",
     "start_time": "2023-08-11T10:53:02.128008Z"
    }
   },
   "outputs": [],
   "source": [
    "import sys\n",
    "import os\n",
    "\n",
    "from Networks.multi_layer_net_extend import MultiLayerNetExtend as MLE\n",
    "from Networks.simple_convnet import SimpleConvNet as CVS\n",
    "from Networks.deep_convnet import DeepConvNet as CVD\n",
    "from Networks.vgg import VGG\n",
    "\n",
    "import matplotlib.pyplot as plt\n",
    "from dataset.mnist import load_mnist\n",
    "from Layers.optimizer import *\n",
    "from Layers.util import smooth_curve\n",
    "import numpy as np\n",
    "import time\n"
   ]
  },
  {
   "cell_type": "code",
   "execution_count": 7,
   "outputs": [],
   "source": [
    "(x_train, t_train), (x_test, t_test) = load_mnist(normalize=True)\n",
    "train_size = x_train.shape[0]\n",
    "test_size = x_test.shape[0]\n",
    "batch_size = 128\n",
    "max_iterations = 1000\n",
    "print_iter = 10\n",
    "mi = np.arange(max_iterations)"
   ],
   "metadata": {
    "collapsed": false,
    "ExecuteTime": {
     "end_time": "2023-08-11T10:53:02.334797Z",
     "start_time": "2023-08-11T10:53:02.136808Z"
    }
   }
  },
  {
   "cell_type": "code",
   "execution_count": 8,
   "outputs": [],
   "source": [
    "def test(test_list, max_acc=None):\n",
    "    networks = {}\n",
    "    train_acc = {}\n",
    "    train_loss = {}\n",
    "    test_acc = {}\n",
    "    test_loss = {}\n",
    "    optimizer = {}\n",
    "    total_step = {}\n",
    "    time_record = {}\n",
    "\n",
    "    for key in test_list.keys():\n",
    "        # 기록 리스트 생성\n",
    "        train_acc[key] = []\n",
    "        train_loss[key] = []\n",
    "        test_acc[key] = []\n",
    "        test_loss[key] = []\n",
    "        total_step[key] = 0\n",
    "        time_record[key] = 0\n",
    "\n",
    "        # nSigmoid 경우 파라미터\n",
    "        # key == 'nSigmoid_8' -> act = nSigmoid, threshold = 8\n",
    "        networks[key] = test_list[key]['network']\n",
    "\n",
    "        # optimizer 생성\n",
    "        opt = test_list[key]['opt']\n",
    "        lr = test_list[key]['lr']\n",
    "        if opt == 'SGD':\n",
    "            optimizer[key] = SGD(lr)\n",
    "        elif opt == 'Momentum':\n",
    "            optimizer[key] = Momentum(lr)\n",
    "        elif opt == 'AdaGrad':\n",
    "            optimizer[key] = AdaGrad(lr)\n",
    "        elif opt == 'Adam':\n",
    "            optimizer[key] = Adam(lr)\n",
    "        else:\n",
    "            assert 'no opt' + opt\n",
    "\n",
    "    # 파라미터 통일 셋팅\n",
    "    # networks1 = networks['MLE1']\n",
    "    # networks2 = networks['MLE2']\n",
    "    # for k in networks1.params.keys():\n",
    "    #     for i in range(networks1.params[k].shape[0]):\n",
    "    #         networks1.params[k][i] = networks2.params[k][i].copy()\n",
    "\n",
    "    # 학습\n",
    "    for i in range(max_iterations):\n",
    "        if 0 not in total_step.values():\n",
    "            print(\"All test list training Done\\nStep: \" + str(i))\n",
    "            break\n",
    "\n",
    "        # mini-batch train\n",
    "        batch_mask = np.random.choice(train_size, batch_size)\n",
    "        x_batch = x_train[batch_mask]\n",
    "        t_batch = t_train[batch_mask]\n",
    "\n",
    "        # mini-batch test\n",
    "        batch_mask_t = np.random.choice(test_size, batch_size)\n",
    "        x_batch_t = x_test[batch_mask_t]\n",
    "        t_batch_t = t_test[batch_mask_t]\n",
    "\n",
    "        # print_iter 회마다 경과 출력\n",
    "        if i % print_iter == 0:\n",
    "            print( \"=\"*15 + \"iteration:\" + str(i) + \"=\"*15)\n",
    "            print(\"{:^9}|{:^9}|{:^9}|{:^9}\".format('model','time','acc','loss'))\n",
    "\n",
    "        # 학습 & 추론 & 기록\n",
    "        for key in test_list.keys():\n",
    "            if total_step[key] != 0:\n",
    "                # Max acc 에 도달해 학습이 끝난 test model\n",
    "                continue\n",
    "            else:\n",
    "                start = time.time()\n",
    "                # CV 모델 데이터 처리\n",
    "                if isinstance(networks[key], (CVS, CVD, VGG)):\n",
    "                    x_batch = x_batch.reshape(-1, 1, 28, 28)\n",
    "                    x_batch_t = x_batch_t.reshape(-1, 1, 28, 28)\n",
    "\n",
    "                # 학습(역전파)\n",
    "                grads = networks[key].gradient(x_batch, t_batch)\n",
    "                optimizer[key].update(networks[key].params, grads)\n",
    "\n",
    "                # 추론(순전파)\n",
    "                tr_acc, tr_loss = networks[key].acc_and_loss(x_batch, t_batch)\n",
    "                ts_acc, ts_loss = networks[key].acc_and_loss(x_batch_t, t_batch_t)\n",
    "\n",
    "                # 기록\n",
    "                train_acc[key].append(tr_acc)\n",
    "                train_loss[key].append(tr_loss)\n",
    "                test_acc[key].append(ts_acc)\n",
    "                test_loss[key].append(ts_loss)\n",
    "                end = time.time()\n",
    "                time_record[key] += (end-start)\n",
    "\n",
    "                # max accuracy 도달 해당 모델 학습 종료\n",
    "                if max_acc and max_acc <= ts_acc:\n",
    "                    total_step[key] = i\n",
    "                    print(key + \" training end!\\nacc : \" + str(ts_acc) + \" step: \" + str(i))\n",
    "\n",
    "                # print_iter 회마다 경과 출력\n",
    "                if i % print_iter == 0:\n",
    "                    print(\"{:^9}| {:0<7.3f} | {:0<.5f} | {:0<.5f}\".format(key, time_record[key], ts_acc, ts_loss))\n",
    "\n",
    "    return train_acc, train_loss, test_acc, test_loss, total_step\n",
    "\n",
    "\n",
    "def plot(label, datas, t_list, *y_lim):\n",
    "    for key in t_list:\n",
    "        plt.plot( smooth_curve(datas[key]), markevery=50, label=key)\n",
    "    plt.xlabel(\"iterations\")\n",
    "    plt.ylabel(label)\n",
    "    if y_lim:\n",
    "        plt.ylim(y_lim)\n",
    "    plt.legend()\n",
    "    plt.show()"
   ],
   "metadata": {
    "collapsed": false,
    "ExecuteTime": {
     "end_time": "2023-08-11T10:53:02.345059Z",
     "start_time": "2023-08-11T10:53:02.343598Z"
    }
   }
  },
  {
   "cell_type": "code",
   "execution_count": 9,
   "outputs": [],
   "source": [
    "net1 = MLE(input_size=784, hidden_size_list=[100, 100, 100, 100], output_size=10,\n",
    "            use_dropout=True, dropout_ratio=0.5,\n",
    "            activation='relu', weight_init_std='he', use_batchnorm=False)\n",
    "net2 = VGG(dropout_ratio=0.5)\n",
    "net3 = CVD(back_eta=False ,dropout_ratio=0.5)"
   ],
   "metadata": {
    "collapsed": false,
    "ExecuteTime": {
     "end_time": "2023-08-11T10:53:03.664345Z",
     "start_time": "2023-08-11T10:53:02.347642Z"
    }
   }
  },
  {
   "cell_type": "code",
   "execution_count": 10,
   "outputs": [
    {
     "name": "stdout",
     "output_type": "stream",
     "text": [
      "===============iteration:0===============\n",
      "  model  |  time   |   acc   |  loss   \n",
      "   MLP   | 0.02500 | 0.22656 | 2.29217\n"
     ]
    },
    {
     "ename": "ValueError",
     "evalue": "operands could not be broadcast together with shapes (128,57600) (128,64,3,3) ",
     "output_type": "error",
     "traceback": [
      "\u001B[0;31m---------------------------------------------------------------------------\u001B[0m",
      "\u001B[0;31mValueError\u001B[0m                                Traceback (most recent call last)",
      "Cell \u001B[0;32mIn[10], line 11\u001B[0m\n\u001B[1;32m      1\u001B[0m test_list \u001B[38;5;241m=\u001B[39m {\n\u001B[1;32m      2\u001B[0m              \u001B[38;5;124m'\u001B[39m\u001B[38;5;124mMLP\u001B[39m\u001B[38;5;124m'\u001B[39m:\n\u001B[1;32m      3\u001B[0m                  {\u001B[38;5;124m'\u001B[39m\u001B[38;5;124mnetwork\u001B[39m\u001B[38;5;124m'\u001B[39m:net1,\u001B[38;5;124m'\u001B[39m\u001B[38;5;124mopt\u001B[39m\u001B[38;5;124m'\u001B[39m:\u001B[38;5;124m'\u001B[39m\u001B[38;5;124mAdaGrad\u001B[39m\u001B[38;5;124m'\u001B[39m,\u001B[38;5;124m'\u001B[39m\u001B[38;5;124mlr\u001B[39m\u001B[38;5;124m'\u001B[39m:\u001B[38;5;241m0.01\u001B[39m},\n\u001B[0;32m   (...)\u001B[0m\n\u001B[1;32m      7\u001B[0m                  {\u001B[38;5;124m'\u001B[39m\u001B[38;5;124mnetwork\u001B[39m\u001B[38;5;124m'\u001B[39m:net3,\u001B[38;5;124m'\u001B[39m\u001B[38;5;124mopt\u001B[39m\u001B[38;5;124m'\u001B[39m:\u001B[38;5;124m'\u001B[39m\u001B[38;5;124mAdaGrad\u001B[39m\u001B[38;5;124m'\u001B[39m,\u001B[38;5;124m'\u001B[39m\u001B[38;5;124mlr\u001B[39m\u001B[38;5;124m'\u001B[39m:\u001B[38;5;241m0.01\u001B[39m},\n\u001B[1;32m      8\u001B[0m              }\n\u001B[1;32m     10\u001B[0m \u001B[38;5;66;03m# train_acc, train_loss, test_acc, test_loss, total_step = test(test_list)\u001B[39;00m\n\u001B[0;32m---> 11\u001B[0m train_acc, train_loss, test_acc, test_loss, total_step \u001B[38;5;241m=\u001B[39m \u001B[43mtest\u001B[49m\u001B[43m(\u001B[49m\u001B[43mtest_list\u001B[49m\u001B[43m,\u001B[49m\u001B[43m \u001B[49m\u001B[38;5;241;43m0.98\u001B[39;49m\u001B[43m)\u001B[49m\n",
      "Cell \u001B[0;32mIn[8], line 79\u001B[0m, in \u001B[0;36mtest\u001B[0;34m(test_list, max_acc)\u001B[0m\n\u001B[1;32m     76\u001B[0m     x_batch_t \u001B[38;5;241m=\u001B[39m x_batch_t\u001B[38;5;241m.\u001B[39mreshape(\u001B[38;5;241m-\u001B[39m\u001B[38;5;241m1\u001B[39m, \u001B[38;5;241m1\u001B[39m, \u001B[38;5;241m28\u001B[39m, \u001B[38;5;241m28\u001B[39m)\n\u001B[1;32m     78\u001B[0m \u001B[38;5;66;03m# 학습(역전파)\u001B[39;00m\n\u001B[0;32m---> 79\u001B[0m grads \u001B[38;5;241m=\u001B[39m \u001B[43mnetworks\u001B[49m\u001B[43m[\u001B[49m\u001B[43mkey\u001B[49m\u001B[43m]\u001B[49m\u001B[38;5;241;43m.\u001B[39;49m\u001B[43mgradient\u001B[49m\u001B[43m(\u001B[49m\u001B[43mx_batch\u001B[49m\u001B[43m,\u001B[49m\u001B[43m \u001B[49m\u001B[43mt_batch\u001B[49m\u001B[43m)\u001B[49m\n\u001B[1;32m     80\u001B[0m optimizer[key]\u001B[38;5;241m.\u001B[39mupdate(networks[key]\u001B[38;5;241m.\u001B[39mparams, grads)\n\u001B[1;32m     82\u001B[0m \u001B[38;5;66;03m# 추론(순전파)\u001B[39;00m\n",
      "File \u001B[0;32m~/Code/AI/Node_Layer_Network/Networks/vgg.py:143\u001B[0m, in \u001B[0;36mVGG.gradient\u001B[0;34m(self, x, t)\u001B[0m\n\u001B[1;32m    141\u001B[0m \u001B[38;5;28;01mdef\u001B[39;00m \u001B[38;5;21mgradient\u001B[39m(\u001B[38;5;28mself\u001B[39m, x, t):\n\u001B[1;32m    142\u001B[0m     \u001B[38;5;66;03m# forward\u001B[39;00m\n\u001B[0;32m--> 143\u001B[0m     \u001B[38;5;28;43mself\u001B[39;49m\u001B[38;5;241;43m.\u001B[39;49m\u001B[43mloss\u001B[49m\u001B[43m(\u001B[49m\u001B[43mx\u001B[49m\u001B[43m,\u001B[49m\u001B[43m \u001B[49m\u001B[43mt\u001B[49m\u001B[43m,\u001B[49m\u001B[43m \u001B[49m\u001B[43mtrain_flg\u001B[49m\u001B[38;5;241;43m=\u001B[39;49m\u001B[38;5;28;43;01mTrue\u001B[39;49;00m\u001B[43m)\u001B[49m\n\u001B[1;32m    145\u001B[0m     \u001B[38;5;66;03m# backward\u001B[39;00m\n\u001B[1;32m    146\u001B[0m     dout \u001B[38;5;241m=\u001B[39m \u001B[38;5;241m1\u001B[39m\n",
      "File \u001B[0;32m~/Code/AI/Node_Layer_Network/Networks/vgg.py:112\u001B[0m, in \u001B[0;36mVGG.loss\u001B[0;34m(self, x, t, train_flg)\u001B[0m\n\u001B[1;32m    111\u001B[0m \u001B[38;5;28;01mdef\u001B[39;00m \u001B[38;5;21mloss\u001B[39m(\u001B[38;5;28mself\u001B[39m, x, t, train_flg\u001B[38;5;241m=\u001B[39m\u001B[38;5;28;01mFalse\u001B[39;00m):\n\u001B[0;32m--> 112\u001B[0m     y \u001B[38;5;241m=\u001B[39m \u001B[38;5;28;43mself\u001B[39;49m\u001B[38;5;241;43m.\u001B[39;49m\u001B[43mpredict\u001B[49m\u001B[43m(\u001B[49m\u001B[43mx\u001B[49m\u001B[43m,\u001B[49m\u001B[43m \u001B[49m\u001B[43mtrain_flg\u001B[49m\u001B[43m)\u001B[49m\n\u001B[1;32m    113\u001B[0m     \u001B[38;5;28;01mreturn\u001B[39;00m \u001B[38;5;28mself\u001B[39m\u001B[38;5;241m.\u001B[39mlast_layer\u001B[38;5;241m.\u001B[39mforward(y, t)\n",
      "File \u001B[0;32m~/Code/AI/Node_Layer_Network/Networks/vgg.py:108\u001B[0m, in \u001B[0;36mVGG.predict\u001B[0;34m(self, x, train_flg)\u001B[0m\n\u001B[1;32m    106\u001B[0m         x \u001B[38;5;241m=\u001B[39m layer\u001B[38;5;241m.\u001B[39mforward(x, train_flg)\n\u001B[1;32m    107\u001B[0m     \u001B[38;5;28;01melse\u001B[39;00m:\n\u001B[0;32m--> 108\u001B[0m         x \u001B[38;5;241m=\u001B[39m \u001B[43mlayer\u001B[49m\u001B[38;5;241;43m.\u001B[39;49m\u001B[43mforward\u001B[49m\u001B[43m(\u001B[49m\u001B[43mx\u001B[49m\u001B[43m)\u001B[49m\n\u001B[1;32m    109\u001B[0m \u001B[38;5;28;01mreturn\u001B[39;00m x\n",
      "File \u001B[0;32m~/Code/AI/Node_Layer_Network/Layers/layers.py:296\u001B[0m, in \u001B[0;36mBatchNormalization.forward\u001B[0;34m(self, x, train_flg)\u001B[0m\n\u001B[1;32m    293\u001B[0m     \u001B[38;5;28mself\u001B[39m\u001B[38;5;241m.\u001B[39mfirst \u001B[38;5;241m=\u001B[39m \u001B[38;5;28;01mFalse\u001B[39;00m\n\u001B[1;32m    294\u001B[0m \u001B[38;5;28mself\u001B[39m\u001B[38;5;241m.\u001B[39mget_x\u001B[38;5;241m.\u001B[39mv \u001B[38;5;241m=\u001B[39m x\n\u001B[0;32m--> 296\u001B[0m out \u001B[38;5;241m=\u001B[39m \u001B[38;5;28;43mself\u001B[39;49m\u001B[38;5;241;43m.\u001B[39;49m\u001B[43mlast_node\u001B[49m\u001B[38;5;241;43m.\u001B[39;49m\u001B[43mforward\u001B[49m\u001B[43m(\u001B[49m\u001B[43m)\u001B[49m\n\u001B[1;32m    298\u001B[0m \u001B[38;5;28;01mif\u001B[39;00m \u001B[38;5;28mself\u001B[39m\u001B[38;5;241m.\u001B[39mrunning_mean \u001B[38;5;129;01mis\u001B[39;00m \u001B[38;5;28;01mNone\u001B[39;00m:\n\u001B[1;32m    299\u001B[0m     \u001B[38;5;28mself\u001B[39m\u001B[38;5;241m.\u001B[39mrunning_mean \u001B[38;5;241m=\u001B[39m np\u001B[38;5;241m.\u001B[39mzeros(D)\n",
      "File \u001B[0;32m~/Code/AI/Node_Layer_Network/Nodes/two_node.py:64\u001B[0m, in \u001B[0;36mAdd.forward\u001B[0;34m(self)\u001B[0m\n\u001B[1;32m     63\u001B[0m \u001B[38;5;28;01mdef\u001B[39;00m \u001B[38;5;21mforward\u001B[39m(\u001B[38;5;28mself\u001B[39m):\n\u001B[0;32m---> 64\u001B[0m     a \u001B[38;5;241m=\u001B[39m \u001B[38;5;28;43mself\u001B[39;49m\u001B[38;5;241;43m.\u001B[39;49m\u001B[43ma_node\u001B[49m\u001B[38;5;241;43m.\u001B[39;49m\u001B[43mforward\u001B[49m\u001B[43m(\u001B[49m\u001B[43m)\u001B[49m\n\u001B[1;32m     65\u001B[0m     b \u001B[38;5;241m=\u001B[39m \u001B[38;5;28mself\u001B[39m\u001B[38;5;241m.\u001B[39mb_node\u001B[38;5;241m.\u001B[39mforward()\n\u001B[1;32m     66\u001B[0m     y \u001B[38;5;241m=\u001B[39m a \u001B[38;5;241m+\u001B[39m b\n",
      "File \u001B[0;32m~/Code/AI/Node_Layer_Network/Nodes/two_node.py:46\u001B[0m, in \u001B[0;36mMul.forward\u001B[0;34m(self)\u001B[0m\n\u001B[1;32m     44\u001B[0m \u001B[38;5;28mself\u001B[39m\u001B[38;5;241m.\u001B[39ma \u001B[38;5;241m=\u001B[39m \u001B[38;5;28mself\u001B[39m\u001B[38;5;241m.\u001B[39ma_node\u001B[38;5;241m.\u001B[39mforward()\n\u001B[1;32m     45\u001B[0m \u001B[38;5;28mself\u001B[39m\u001B[38;5;241m.\u001B[39mb \u001B[38;5;241m=\u001B[39m \u001B[38;5;28mself\u001B[39m\u001B[38;5;241m.\u001B[39mb_node\u001B[38;5;241m.\u001B[39mforward()\n\u001B[0;32m---> 46\u001B[0m y \u001B[38;5;241m=\u001B[39m \u001B[38;5;28;43mself\u001B[39;49m\u001B[38;5;241;43m.\u001B[39;49m\u001B[43ma\u001B[49m\u001B[43m \u001B[49m\u001B[38;5;241;43m*\u001B[39;49m\u001B[43m \u001B[49m\u001B[38;5;28;43mself\u001B[39;49m\u001B[38;5;241;43m.\u001B[39;49m\u001B[43mb\u001B[49m\n\u001B[1;32m     48\u001B[0m \u001B[38;5;28;01mreturn\u001B[39;00m y\n",
      "\u001B[0;31mValueError\u001B[0m: operands could not be broadcast together with shapes (128,57600) (128,64,3,3) "
     ]
    }
   ],
   "source": [
    "test_list = {\n",
    "             'MLP':\n",
    "                 {'network':net1,'opt':'AdaGrad','lr':0.01},\n",
    "             'VGG':\n",
    "                 {'network':net2,'opt':'AdaGrad','lr':0.01},\n",
    "             'Deep CNN':\n",
    "                 {'network':net3,'opt':'AdaGrad','lr':0.01},\n",
    "             }\n",
    "\n",
    "# train_acc, train_loss, test_acc, test_loss, total_step = test(test_list)\n",
    "train_acc, train_loss, test_acc, test_loss, total_step = test(test_list, 0.98)"
   ],
   "metadata": {
    "collapsed": false,
    "ExecuteTime": {
     "end_time": "2023-08-11T10:53:04.182617Z",
     "start_time": "2023-08-11T10:53:03.662346Z"
    }
   }
  },
  {
   "cell_type": "code",
   "execution_count": null,
   "outputs": [],
   "source": [
    "plot('test_acc', test_acc, test_list)"
   ],
   "metadata": {
    "collapsed": false
   }
  },
  {
   "cell_type": "code",
   "execution_count": null,
   "outputs": [],
   "source": [
    "plot('test_loss', test_loss, test_list)"
   ],
   "metadata": {
    "collapsed": false
   }
  },
  {
   "cell_type": "code",
   "execution_count": null,
   "outputs": [],
   "source": [
    "print(total_step)"
   ],
   "metadata": {
    "collapsed": false
   }
  }
 ],
 "metadata": {
  "kernelspec": {
   "display_name": "Python 3",
   "language": "python",
   "name": "python3"
  },
  "language_info": {
   "codemirror_mode": {
    "name": "ipython",
    "version": 2
   },
   "file_extension": ".py",
   "mimetype": "text/x-python",
   "name": "python",
   "nbconvert_exporter": "python",
   "pygments_lexer": "ipython2",
   "version": "2.7.6"
  }
 },
 "nbformat": 4,
 "nbformat_minor": 0
}

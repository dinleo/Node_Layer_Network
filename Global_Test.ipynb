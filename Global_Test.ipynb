{
 "cells": [
  {
   "cell_type": "markdown",
   "source": [],
   "metadata": {
    "collapsed": false
   }
  },
  {
   "cell_type": "code",
   "execution_count": 1,
   "metadata": {
    "collapsed": true,
    "ExecuteTime": {
     "end_time": "2023-08-11T16:59:29.003540100Z",
     "start_time": "2023-08-11T16:59:27.909766400Z"
    }
   },
   "outputs": [],
   "source": [
    "import sys\n",
    "import os\n",
    "\n",
    "from Networks.multi_layer_net_extend import MultiLayerNetExtend as MLE\n",
    "from Networks.simple_convnet import SimpleConvNet as CVS\n",
    "from Networks.deep_convnet import DeepConvNet as CVD\n",
    "from Networks.VGG import VGG\n",
    "from Networks.CNN import CNN\n",
    "\n",
    "import matplotlib.pyplot as plt\n",
    "from dataset.mnist import load_mnist\n",
    "from Layers.optimizer import *\n",
    "from Layers.util import smooth_curve\n",
    "import cupy as np\n",
    "import time\n"
   ]
  },
  {
   "cell_type": "code",
   "execution_count": 2,
   "outputs": [],
   "source": [
    "(x_train, t_train), (x_test, t_test) = load_mnist(normalize=True)\n",
    "train_size = x_train.shape[0]\n",
    "test_size = x_test.shape[0]\n",
    "batch_size = 128\n",
    "max_iterations = 100\n",
    "print_iter = 10\n",
    "mi = np.arange(max_iterations)"
   ],
   "metadata": {
    "collapsed": false,
    "ExecuteTime": {
     "end_time": "2023-08-11T16:59:29.360718500Z",
     "start_time": "2023-08-11T16:59:29.000541700Z"
    }
   }
  },
  {
   "cell_type": "code",
   "execution_count": 3,
   "outputs": [],
   "source": [
    "def test(test_list, max_acc=None):\n",
    "    networks = {}\n",
    "    train_acc = {}\n",
    "    train_loss = {}\n",
    "    test_acc = {}\n",
    "    test_loss = {}\n",
    "    optimizer = {}\n",
    "    total_step = {}\n",
    "    time_record = {}\n",
    "\n",
    "    for key in test_list.keys():\n",
    "        # 기록 리스트 생성\n",
    "        train_acc[key] = []\n",
    "        train_loss[key] = []\n",
    "        test_acc[key] = []\n",
    "        test_loss[key] = []\n",
    "        total_step[key] = 0\n",
    "        time_record[key] = 0\n",
    "\n",
    "        # nSigmoid 경우 파라미터\n",
    "        # key == 'nSigmoid_8' -> act = nSigmoid, threshold = 8\n",
    "        networks[key] = test_list[key]['network']\n",
    "\n",
    "        # optimizer 생성\n",
    "        opt = test_list[key]['opt']\n",
    "        lr = test_list[key]['lr']\n",
    "        if opt == 'SGD':\n",
    "            optimizer[key] = SGD(lr)\n",
    "        elif opt == 'Momentum':\n",
    "            optimizer[key] = Momentum(lr)\n",
    "        elif opt == 'AdaGrad':\n",
    "            optimizer[key] = AdaGrad(lr)\n",
    "        elif opt == 'Adam':\n",
    "            optimizer[key] = Adam(lr)\n",
    "        else:\n",
    "            assert 'no opt' + opt\n",
    "\n",
    "    # 파라미터 통일 셋팅\n",
    "    # networks1 = networks['CVD']\n",
    "    # networks2 = networks['CNN']\n",
    "    # for k in networks1.params.keys():\n",
    "    #     for i in range(networks1.params[k].shape[0]):\n",
    "    #         networks1.params[k][i] = networks2.params[k][i].copy()\n",
    "    # print(networks['CVD'].params['W1'] - networks['CNN'].params['W1'])\n",
    "    # 학습\n",
    "    for i in range(max_iterations):\n",
    "        if 0 not in total_step.values():\n",
    "            print(\"All test list training Done\\nStep: \" + str(i))\n",
    "            break\n",
    "\n",
    "        # mini-batch train\n",
    "        batch_mask = np.random.choice(train_size, batch_size)\n",
    "        x_batch = x_train[batch_mask]\n",
    "        t_batch = t_train[batch_mask]\n",
    "\n",
    "        # mini-batch test\n",
    "        batch_mask_t = np.random.choice(test_size, batch_size)\n",
    "        x_batch_t = x_test[batch_mask_t]\n",
    "        t_batch_t = t_test[batch_mask_t]\n",
    "\n",
    "        # print_iter 회마다 경과 출력\n",
    "        if i % print_iter == 0:\n",
    "            print( \"=\"*15 + \"iteration:\" + str(i) + \"=\"*15)\n",
    "            print(\"{:^9}|{:^9}|{:^9}|{:^9}\".format('model','time','acc','loss'))\n",
    "\n",
    "        # 학습 & 추론 & 기록\n",
    "        for key in test_list.keys():\n",
    "            if total_step[key] != 0:\n",
    "                # Max acc 에 도달해 학습이 끝난 test model\n",
    "                continue\n",
    "            else:\n",
    "                start = time.time()\n",
    "                # CV 모델 데이터 처리\n",
    "                if isinstance(networks[key], (CVS, CVD, CNN, VGG)):\n",
    "                    x_batch = x_batch.reshape(-1, 1, 28, 28)\n",
    "                    x_batch_t = x_batch_t.reshape(-1, 1, 28, 28)\n",
    "\n",
    "                # 학습(역전파)\n",
    "                grads = networks[key].gradient(x_batch, t_batch)\n",
    "                optimizer[key].update(networks[key].params, grads)\n",
    "\n",
    "                # 추론(순전파)\n",
    "                tr_acc, tr_loss = networks[key].acc_and_loss(x_batch, t_batch)\n",
    "                ts_acc, ts_loss = networks[key].acc_and_loss(x_batch_t, t_batch_t)\n",
    "\n",
    "                # 기록\n",
    "                train_acc[key].append(tr_acc)\n",
    "                train_loss[key].append(tr_loss)\n",
    "                test_acc[key].append(ts_acc)\n",
    "                test_loss[key].append(ts_loss)\n",
    "                end = time.time()\n",
    "                time_record[key] += (end-start)\n",
    "\n",
    "                # max accuracy 도달 해당 모델 학습 종료\n",
    "                if max_acc and max_acc <= ts_acc:\n",
    "                    total_step[key] = i\n",
    "                    print(key + \" training end!\\nacc : \" + str(ts_acc) + \" step: \" + str(i))\n",
    "\n",
    "                # print_iter 회마다 경과 출력\n",
    "                if i % print_iter == 0:\n",
    "                    print(\"{:^9}| {:0<7.3f} | {:0<.5f} | {:0<.5f}\".format(key, time_record[key], ts_acc, ts_loss))\n",
    "\n",
    "    return train_acc, train_loss, test_acc, test_loss, total_step\n",
    "\n",
    "\n",
    "def plot(label, datas, t_list, *y_lim):\n",
    "    for key in t_list:\n",
    "        plt.plot( smooth_curve(datas[key]), markevery=50, label=key)\n",
    "    plt.xlabel(\"iterations\")\n",
    "    plt.ylabel(label)\n",
    "    if y_lim:\n",
    "        plt.ylim(y_lim)\n",
    "    plt.legend()\n",
    "    plt.show()"
   ],
   "metadata": {
    "collapsed": false,
    "ExecuteTime": {
     "end_time": "2023-08-11T16:59:29.374949500Z",
     "start_time": "2023-08-11T16:59:29.368717900Z"
    }
   }
  },
  {
   "cell_type": "code",
   "execution_count": 4,
   "outputs": [],
   "source": [
    "net1 = MLE(input_size=784, hidden_size_list=[100, 100, 100, 100], output_size=10,\n",
    "            use_dropout=True, dropout_ratio=0.5,\n",
    "            activation='relu', weight_init_std='he', use_batchnorm=False)\n",
    "net2 = CNN()\n",
    "# net3 = VGG()"
   ],
   "metadata": {
    "collapsed": false,
    "ExecuteTime": {
     "end_time": "2023-08-11T16:59:29.405949100Z",
     "start_time": "2023-08-11T16:59:29.377950400Z"
    }
   }
  },
  {
   "cell_type": "code",
   "execution_count": 5,
   "outputs": [
    {
     "name": "stdout",
     "output_type": "stream",
     "text": [
      "===============iteration:0===============\n",
      "  model  |  time   |   acc   |  loss   \n",
      "   MLP   | 7.02200 | 0.14062 | 2.28907\n",
      "   CNN   | 0.61200 | 0.08594 | 11.40796\n",
      "===============iteration:10===============\n",
      "  model  |  time   |   acc   |  loss   \n",
      "   MLP   | 7.58400 | 0.41406 | 2.18174\n",
      "   CNN   | 3.04700 | 0.40625 | 2.13263\n",
      "===============iteration:20===============\n",
      "  model  |  time   |   acc   |  loss   \n",
      "   MLP   | 8.18000 | 0.40625 | 1.89432\n",
      "   CNN   | 5.47600 | 0.39844 | 2.07239\n",
      "===============iteration:30===============\n",
      "  model  |  time   |   acc   |  loss   \n",
      "   MLP   | 8.75500 | 0.38281 | 1.71367\n",
      "   CNN   | 7.88900 | 0.84375 | 0.56907\n",
      "===============iteration:40===============\n",
      "  model  |  time   |   acc   |  loss   \n",
      "   MLP   | 9.34600 | 0.45312 | 1.54015\n",
      "   CNN   | 10.3010 | 0.85938 | 0.41326\n",
      "===============iteration:50===============\n",
      "  model  |  time   |   acc   |  loss   \n",
      "   MLP   | 9.92100 | 0.49219 | 1.43018\n",
      "   CNN   | 12.7090 | 0.85156 | 0.46475\n",
      "===============iteration:60===============\n",
      "  model  |  time   |   acc   |  loss   \n",
      "   MLP   | 10.4850 | 0.51562 | 1.36655\n",
      "   CNN   | 15.1460 | 0.94531 | 0.16651\n",
      "===============iteration:70===============\n",
      "  model  |  time   |   acc   |  loss   \n",
      "   MLP   | 11.0630 | 0.46094 | 1.30290\n",
      "   CNN   | 17.5400 | 0.92969 | 0.20627\n",
      "===============iteration:80===============\n",
      "  model  |  time   |   acc   |  loss   \n",
      "   MLP   | 11.6440 | 0.61719 | 1.04614\n",
      "CNN training end!\n",
      "acc : 0.984375 step: 80\n",
      "   CNN   | 19.9610 | 0.98438 | 0.07999\n",
      "===============iteration:90===============\n",
      "  model  |  time   |   acc   |  loss   \n",
      "   MLP   | 12.2010 | 0.64062 | 1.00132\n"
     ]
    }
   ],
   "source": [
    "test_list = {\n",
    "             'MLP':\n",
    "                 {'network':net1,'opt':'AdaGrad','lr':0.01},\n",
    "             'CNN':\n",
    "                 {'network':net2,'opt':'AdaGrad','lr':0.01},\n",
    "             # 'VGG':\n",
    "             #     {'network':net3,'opt':'AdaGrad','lr':0.01},\n",
    "             }\n",
    "\n",
    "# train_acc, train_loss, test_acc, test_loss, total_step = test(test_list)\n",
    "train_acc, train_loss, test_acc, test_loss, total_step = test(test_list, 0.98)"
   ],
   "metadata": {
    "collapsed": false,
    "ExecuteTime": {
     "end_time": "2023-08-11T17:00:02.285689700Z",
     "start_time": "2023-08-11T16:59:29.409953300Z"
    }
   }
  },
  {
   "cell_type": "code",
   "execution_count": 6,
   "outputs": [
    {
     "name": "stderr",
     "output_type": "stream",
     "text": [
      "\n",
      "KeyboardInterrupt\n",
      "\n"
     ]
    },
    {
     "data": {
      "text/plain": "<Figure size 432x288 with 1 Axes>",
      "image/png": "[encoded data removed]"
     },
     "metadata": {
      "needs_background": "light"
     },
     "output_type": "display_data"
    }
   ],
   "source": [
    "plot('test_acc', test_acc, test_list)"
   ],
   "metadata": {
    "collapsed": false,
    "ExecuteTime": {
     "end_time": "2023-08-11T17:00:05.021174300Z",
     "start_time": "2023-08-11T17:00:02.286663700Z"
    }
   }
  },
  {
   "cell_type": "code",
   "execution_count": null,
   "outputs": [],
   "source": [
    "plot('test_loss', test_loss, test_list)"
   ],
   "metadata": {
    "collapsed": false,
    "ExecuteTime": {
     "start_time": "2023-08-11T17:00:05.017173200Z"
    }
   }
  },
  {
   "cell_type": "code",
   "execution_count": null,
   "outputs": [],
   "source": [
    "print(total_step)"
   ],
   "metadata": {
    "collapsed": false,
    "ExecuteTime": {
     "start_time": "2023-08-11T17:00:05.019174800Z"
    }
   }
  }
 ],
 "metadata": {
  "kernelspec": {
   "display_name": "Python 3",
   "language": "python",
   "name": "python3"
  },
  "language_info": {
   "codemirror_mode": {
    "name": "ipython",
    "version": 2
   },
   "file_extension": ".py",
   "mimetype": "text/x-python",
   "name": "python",
   "nbconvert_exporter": "python",
   "pygments_lexer": "ipython2",
   "version": "2.7.6"
  }
 },
 "nbformat": 4,
 "nbformat_minor": 0
}

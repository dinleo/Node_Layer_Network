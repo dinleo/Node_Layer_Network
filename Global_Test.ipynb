{
 "cells": [
  {
   "cell_type": "markdown",
   "source": [],
   "metadata": {
    "collapsed": false
   }
  },
  {
   "cell_type": "code",
   "execution_count": 1,
   "metadata": {
    "collapsed": true,
    "ExecuteTime": {
     "end_time": "2023-10-08T07:38:54.998023Z",
     "start_time": "2023-10-08T07:38:54.559550Z"
    }
   },
   "outputs": [],
   "source": [
    "import sys\n",
    "import os\n",
    "\n",
    "from Networks.MLP import MLP\n",
    "from Networks.CNN import CNN\n",
    "\n",
    "import matplotlib.pyplot as plt\n",
    "from dataset.mnist import load_mnist\n",
    "from Layers.optimizer import *\n",
    "from Layers.util import smooth_curve\n",
    "try:\n",
    "    import cupy as np\n",
    "    py = 'cupy'\n",
    "except ImportError:\n",
    "    import numpy as np\n",
    "    py = 'numpy'\n",
    "import time\n"
   ]
  },
  {
   "cell_type": "code",
   "execution_count": 2,
   "outputs": [],
   "source": [
    "(x_train, t_train), (x_test, t_test) = load_mnist(normalize=True)\n",
    "train_size = x_train.shape[0]\n",
    "test_size = x_test.shape[0]\n",
    "batch_size = 128\n",
    "max_iterations = 200\n",
    "print_iter = 10\n",
    "mi = np.arange(max_iterations)"
   ],
   "metadata": {
    "collapsed": false,
    "ExecuteTime": {
     "end_time": "2023-10-08T07:38:55.273235Z",
     "start_time": "2023-10-08T07:38:54.999052Z"
    }
   }
  },
  {
   "cell_type": "code",
   "execution_count": 3,
   "outputs": [
    {
     "name": "stdout",
     "output_type": "stream",
     "text": [
      "[5 0 4 ... 5 6 8]\n"
     ]
    }
   ],
   "source": [
    "print(t_train)"
   ],
   "metadata": {
    "collapsed": false,
    "ExecuteTime": {
     "end_time": "2023-10-08T07:38:55.274397Z",
     "start_time": "2023-10-08T07:38:55.271610Z"
    }
   }
  },
  {
   "cell_type": "code",
   "execution_count": 4,
   "outputs": [],
   "source": [
    "def test(test_list, max_acc=None):\n",
    "    networks = {}\n",
    "    train_acc = {}\n",
    "    train_loss = {}\n",
    "    test_acc = {}\n",
    "    test_loss = {}\n",
    "    optimizer = {}\n",
    "    total_step = {}\n",
    "    time_record = {}\n",
    "    print('Training with [' + py + ']\\n')\n",
    "    for key in test_list.keys():\n",
    "        # 기록 리스트 생성\n",
    "        train_acc[key] = []\n",
    "        train_loss[key] = []\n",
    "        test_acc[key] = []\n",
    "        test_loss[key] = []\n",
    "        total_step[key] = 0\n",
    "        time_record[key] = 0\n",
    "\n",
    "        # nSigmoid 경우 파라미터\n",
    "        # key == 'nSigmoid_8' -> act = nSigmoid, threshold = 8\n",
    "        networks[key] = test_list[key]['network']\n",
    "\n",
    "        # optimizer 생성\n",
    "        opt = test_list[key]['opt']\n",
    "        lr = test_list[key]['lr']\n",
    "        if opt == 'SGD':\n",
    "            optimizer[key] = SGD(lr)\n",
    "        elif opt == 'Momentum':\n",
    "            optimizer[key] = Momentum(lr)\n",
    "        elif opt == 'AdaGrad':\n",
    "            optimizer[key] = AdaGrad(lr)\n",
    "        elif opt == 'Adam':\n",
    "            optimizer[key] = Adam(lr)\n",
    "        else:\n",
    "            assert 'no opt' + opt\n",
    "\n",
    "    # 파라미터 통일 셋팅\n",
    "    # networks1 = networks['1']\n",
    "    # networks2 = networks['2']\n",
    "    # for k in networks1.params.keys():\n",
    "    #     for i in range(networks1.params[k].shape[0]):\n",
    "    #         networks1.params[k][i] = networks2.params[k][i].copy()\n",
    "    # print(np.max(networks['1'].params['W1'] - networks['2'].params['W1']))\n",
    "    # 학습\n",
    "    for i in range(max_iterations):\n",
    "        if 0 not in total_step.values():\n",
    "            print(\"All test list training Done\\nStep: \" + str(i))\n",
    "            break\n",
    "\n",
    "        # mini-batch train\n",
    "        batch_mask = np.random.choice(train_size, batch_size)\n",
    "        x_batch = x_train[batch_mask]\n",
    "        t_batch = t_train[batch_mask]\n",
    "\n",
    "        # mini-batch test\n",
    "        batch_mask_t = np.random.choice(test_size, batch_size)\n",
    "        x_batch_t = x_test[batch_mask_t]\n",
    "        t_batch_t = t_test[batch_mask_t]\n",
    "\n",
    "        # print_iter 회마다 경과 출력\n",
    "        if i % print_iter == 0:\n",
    "            print( \"=\"*15 + \"iteration:\" + str(i) + \"=\"*15)\n",
    "            print(\"{:^9}|{:^9}|{:^9}|{:^9}\".format('model','time','acc','loss'))\n",
    "\n",
    "        # 학습 & 추론 & 기록\n",
    "        for key in test_list.keys():\n",
    "            if total_step[key] != 0:\n",
    "                # Max acc 에 도달해 학습이 끝난 test model\n",
    "                continue\n",
    "            else:\n",
    "                start = time.time()\n",
    "                # CV 모델 데이터 처리\n",
    "                if isinstance(networks[key], CNN):\n",
    "                    x_batch = x_batch.reshape(-1, 1, 28, 28)\n",
    "                    x_batch_t = x_batch_t.reshape(-1, 1, 28, 28)\n",
    "\n",
    "                # 학습(역전파)\n",
    "                grads = networks[key].gradient(x_batch, t_batch)\n",
    "                optimizer[key].update(networks[key].params, grads)\n",
    "\n",
    "                # 추론(순전파)\n",
    "                tr_acc, tr_loss = networks[key].acc_and_loss(x_batch, t_batch)\n",
    "                ts_acc, ts_loss = networks[key].acc_and_loss(x_batch_t, t_batch_t)\n",
    "\n",
    "                # 기록\n",
    "                if py == 'cupy':\n",
    "                    tr_acc = tr_acc.get()\n",
    "                    tr_loss = tr_loss.get()\n",
    "                    ts_acc = ts_acc.get()\n",
    "                    ts_loss = ts_loss.get()\n",
    "                train_acc[key].append(tr_acc)\n",
    "                train_loss[key].append(tr_loss)\n",
    "                test_acc[key].append(ts_acc)\n",
    "                test_loss[key].append(ts_loss)\n",
    "                end = time.time()\n",
    "                time_record[key] += (end-start)\n",
    "\n",
    "                # max accuracy 도달 해당 모델 학습 종료\n",
    "                if max_acc and max_acc <= ts_acc:\n",
    "                    total_step[key] = i\n",
    "                    print(key + \" training end!\\nacc : \" + str(ts_acc) + \" step: \" + str(i))\n",
    "\n",
    "                # print_iter 회마다 경과 출력\n",
    "                if i % print_iter == 0:\n",
    "                    print(\"{:^9}| {:0<7.3f} | {:0<.5f} | {:0<.5f}\".format(key, time_record[key], ts_acc, ts_loss))\n",
    "\n",
    "    return train_acc, train_loss, test_acc, test_loss, total_step\n",
    "\n",
    "\n",
    "def plot(label, datas, t_list, *y_lim):\n",
    "    for key in t_list:\n",
    "        plt.plot(smooth_curve(datas[key]), markevery=50, label=key)\n",
    "    plt.xlabel(\"iterations\")\n",
    "    plt.ylabel(label)\n",
    "    if y_lim:\n",
    "        plt.ylim(y_lim)\n",
    "    plt.legend()\n",
    "    plt.show()"
   ],
   "metadata": {
    "collapsed": false,
    "ExecuteTime": {
     "end_time": "2023-10-08T07:38:55.286261Z",
     "start_time": "2023-10-08T07:38:55.284445Z"
    }
   }
  },
  {
   "cell_type": "code",
   "execution_count": 5,
   "outputs": [],
   "source": [
    "net1 = MLP(input_size=784, hidden_size_list=[100, 100, 100, 100], output_size=10,\n",
    "           use_dropout=False, dropout_ratio=0.5, use_batchnorm=True)\n",
    "# net1 = MLP(input_size=784, hidden_size_list=[100, 100, 100, 100], output_size=10,\n",
    "#             use_dropout=True, dropout_ratio=0.5, use_batchnorm=False)\n",
    "net2 = CNN(model='CNN3', use_batchnorm=True)\n",
    "net3 = CNN(model='CNN8', use_batchnorm=True)\n",
    "# net3 = CNN(model='VGG11', use_batchnorm=True)\n",
    "# net4 = CNN(dropout_ratio=0.5, use_batchnorm=True)"
   ],
   "metadata": {
    "collapsed": false,
    "ExecuteTime": {
     "end_time": "2023-10-08T07:38:55.323911Z",
     "start_time": "2023-10-08T07:38:55.288639Z"
    }
   }
  },
  {
   "cell_type": "code",
   "execution_count": 6,
   "outputs": [
    {
     "name": "stdout",
     "output_type": "stream",
     "text": [
      "Training with [numpy]\n",
      "\n",
      "===============iteration:0===============\n",
      "  model  |  time   |   acc   |  loss   \n",
      "   CNN   | 0.73200 | 0.17969 | 10.38266\n",
      "===============iteration:10===============\n",
      "  model  |  time   |   acc   |  loss   \n",
      "   CNN   | 5.51000 | 0.64844 | 4.56426\n",
      "===============iteration:20===============\n",
      "  model  |  time   |   acc   |  loss   \n",
      "   CNN   | 10.1240 | 0.84375 | 1.55230\n",
      "===============iteration:30===============\n",
      "  model  |  time   |   acc   |  loss   \n",
      "   CNN   | 14.7070 | 0.80469 | 2.45993\n",
      "===============iteration:40===============\n",
      "  model  |  time   |   acc   |  loss   \n",
      "   CNN   | 19.3070 | 0.82812 | 0.76336\n",
      "===============iteration:50===============\n",
      "  model  |  time   |   acc   |  loss   \n",
      "   CNN   | 23.9310 | 0.86719 | 0.57465\n",
      "===============iteration:60===============\n",
      "  model  |  time   |   acc   |  loss   \n",
      "   CNN   | 28.5500 | 0.95312 | 0.19321\n",
      "===============iteration:70===============\n",
      "  model  |  time   |   acc   |  loss   \n",
      "   CNN   | 33.3350 | 0.90625 | 0.36014\n",
      "===============iteration:80===============\n",
      "  model  |  time   |   acc   |  loss   \n",
      "   CNN   | 38.1350 | 0.92969 | 0.33144\n",
      "===============iteration:90===============\n",
      "  model  |  time   |   acc   |  loss   \n",
      "   CNN   | 42.9470 | 0.92188 | 0.33561\n",
      "===============iteration:100===============\n",
      "  model  |  time   |   acc   |  loss   \n",
      "   CNN   | 47.8030 | 0.94531 | 0.34167\n",
      "===============iteration:110===============\n",
      "  model  |  time   |   acc   |  loss   \n",
      "   CNN   | 52.7160 | 0.88281 | 0.41177\n",
      "===============iteration:120===============\n",
      "  model  |  time   |   acc   |  loss   \n",
      "   CNN   | 57.6710 | 0.93750 | 0.22187\n",
      "===============iteration:130===============\n",
      "  model  |  time   |   acc   |  loss   \n",
      "   CNN   | 62.6760 | 0.94531 | 0.23193\n",
      "===============iteration:140===============\n",
      "  model  |  time   |   acc   |  loss   \n",
      "   CNN   | 67.7100 | 0.95312 | 0.27393\n",
      "===============iteration:150===============\n",
      "  model  |  time   |   acc   |  loss   \n",
      "   CNN   | 72.7550 | 0.94531 | 0.23563\n",
      "===============iteration:160===============\n",
      "  model  |  time   |   acc   |  loss   \n",
      "   CNN   | 77.8380 | 0.96875 | 0.09049\n",
      "===============iteration:170===============\n",
      "  model  |  time   |   acc   |  loss   \n",
      "   CNN   | 82.9200 | 0.96094 | 0.14981\n",
      "===============iteration:180===============\n",
      "  model  |  time   |   acc   |  loss   \n",
      "   CNN   | 88.0600 | 0.95312 | 0.15397\n",
      "===============iteration:190===============\n",
      "  model  |  time   |   acc   |  loss   \n",
      "   CNN   | 93.2090 | 0.92188 | 0.26170\n"
     ]
    }
   ],
   "source": [
    "test_list = {\n",
    "             # 'MLP':\n",
    "             #     {'network':net1,'opt':'AdaGrad','lr':0.01},\n",
    "             # 'SCV':\n",
    "             #     {'network':net2,'opt':'AdaGrad','lr':0.01},\n",
    "             'CNN':\n",
    "                 {'network':net2,'opt':'AdaGrad','lr':0.01},\n",
    "             # 'CNN_both':\n",
    "             #     {'network':net4,'opt':'AdaGrad','lr':0.01},\n",
    "             }\n",
    "\n",
    "# train_acc, train_loss, test_acc, test_loss, total_step = test(test_list)\n",
    "train_acc, train_loss, test_acc, test_loss, total_step = test(test_list, 0.98)"
   ],
   "metadata": {
    "collapsed": false,
    "ExecuteTime": {
     "end_time": "2023-10-08T07:40:33.300606Z",
     "start_time": "2023-10-08T07:38:55.322709Z"
    }
   }
  },
  {
   "cell_type": "code",
   "execution_count": 7,
   "outputs": [
    {
     "data": {
      "text/plain": "<Figure size 640x480 with 1 Axes>",
      "image/png": "[encoded data removed]"
     },
     "metadata": {},
     "output_type": "display_data"
    }
   ],
   "source": [
    "plot('test_acc', test_acc , test_list)"
   ],
   "metadata": {
    "collapsed": false,
    "ExecuteTime": {
     "end_time": "2023-10-08T07:40:33.449413Z",
     "start_time": "2023-10-08T07:40:33.301030Z"
    }
   }
  },
  {
   "cell_type": "code",
   "execution_count": 8,
   "outputs": [
    {
     "data": {
      "text/plain": "<Figure size 640x480 with 1 Axes>",
      "image/png": "[encoded data removed]"
     },
     "metadata": {},
     "output_type": "display_data"
    }
   ],
   "source": [
    "plot('test_loss', test_loss, test_list)"
   ],
   "metadata": {
    "collapsed": false,
    "ExecuteTime": {
     "end_time": "2023-10-08T07:40:33.573238Z",
     "start_time": "2023-10-08T07:40:33.451704Z"
    }
   }
  },
  {
   "cell_type": "code",
   "execution_count": 9,
   "outputs": [
    {
     "name": "stdout",
     "output_type": "stream",
     "text": [
      "{'CNN': 0}\n"
     ]
    }
   ],
   "source": [
    "print(total_step)"
   ],
   "metadata": {
    "collapsed": false,
    "ExecuteTime": {
     "end_time": "2023-10-08T07:40:33.577431Z",
     "start_time": "2023-10-08T07:40:33.574789Z"
    }
   }
  }
 ],
 "metadata": {
  "kernelspec": {
   "display_name": "Python 3",
   "language": "python",
   "name": "python3"
  },
  "language_info": {
   "codemirror_mode": {
    "name": "ipython",
    "version": 2
   },
   "file_extension": ".py",
   "mimetype": "text/x-python",
   "name": "python",
   "nbconvert_exporter": "python",
   "pygments_lexer": "ipython2",
   "version": "2.7.6"
  }
 },
 "nbformat": 4,
 "nbformat_minor": 0
}

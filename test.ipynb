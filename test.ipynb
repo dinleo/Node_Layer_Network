{
 "cells": [
  {
   "cell_type": "code",
   "execution_count": 152,
   "id": "initial_id",
   "metadata": {
    "collapsed": true,
    "ExecuteTime": {
     "end_time": "2023-08-11T16:56:07.837920900Z",
     "start_time": "2023-08-11T16:56:07.809373400Z"
    }
   },
   "outputs": [],
   "source": [
    "import cupy as np\n",
    "\n",
    "\n",
    "class Max:\n",
    "    def __init__(self, axis=0):\n",
    "        self.axis = axis\n",
    "        self.x_shape = None\n",
    "        self.o_shape = None\n",
    "        self.mask = None\n",
    "\n",
    "    def forward(self, x):\n",
    "        y = np.max(x, axis=self.axis)\n",
    "\n",
    "        self.x_shape = x.shape\n",
    "        self.mask = np.argmax(x, axis=self.axis)\n",
    "        self.o_shape = y.shape\n",
    "\n",
    "        return y\n",
    "\n",
    "    def backward(self, y):\n",
    "        dx = np.zeros(self.x_shape)\n",
    "        if len(self.x_shape) == 1:\n",
    "            dx[self.mask] = y\n",
    "        else:\n",
    "            n_i = np.indices(self.o_shape)\n",
    "            mask = []\n",
    "            idx = 0\n",
    "            for i in range(n_i.shape[0] + 1):\n",
    "                if self.axis == i:\n",
    "                    mask.append(self.mask)\n",
    "                else:\n",
    "                    mask.append(n_i[idx])\n",
    "                    idx += 1\n",
    "            dx[tuple(mask)] = y\n",
    "\n",
    "        return dx"
   ]
  },
  {
   "cell_type": "code",
   "execution_count": 153,
   "outputs": [
    {
     "data": {
      "text/plain": "array([[[5, 5, 3],\n        [1, 8, 4],\n        [3, 8, 7],\n        [2, 6, 7]],\n\n       [[8, 1, 2],\n        [4, 3, 5],\n        [4, 6, 1],\n        [2, 6, 6]],\n\n       [[7, 3, 7],\n        [1, 9, 1],\n        [6, 6, 5],\n        [2, 8, 9]]])"
     },
     "execution_count": 153,
     "metadata": {},
     "output_type": "execute_result"
    }
   ],
   "source": [
    "m = Max(axis=0)\n",
    "\n",
    "\n",
    "x = np.random.randint(1, 10, 36).reshape(3, 4, 3)\n",
    "x"
   ],
   "metadata": {
    "collapsed": false,
    "ExecuteTime": {
     "end_time": "2023-08-11T16:56:07.853921Z",
     "start_time": "2023-08-11T16:56:07.827921900Z"
    }
   },
   "id": "192c3ab1b62931b3"
  },
  {
   "cell_type": "code",
   "execution_count": 154,
   "outputs": [
    {
     "data": {
      "text/plain": "array([[8, 5, 7],\n       [4, 9, 5],\n       [6, 8, 7],\n       [2, 8, 9]], dtype=int32)"
     },
     "execution_count": 154,
     "metadata": {},
     "output_type": "execute_result"
    }
   ],
   "source": [
    "y = m.forward(x)\n",
    "y"
   ],
   "metadata": {
    "collapsed": false,
    "ExecuteTime": {
     "end_time": "2023-08-11T16:56:07.868945700Z",
     "start_time": "2023-08-11T16:56:07.842921100Z"
    }
   },
   "id": "931446201f8d22d7"
  },
  {
   "cell_type": "code",
   "execution_count": 155,
   "outputs": [
    {
     "name": "stdout",
     "output_type": "stream",
     "text": [
      "[[1 0 2]\n",
      " [1 2 1]\n",
      " [2 0 0]\n",
      " [0 2 2]]\n",
      "[[[0 0 0]\n",
      "  [1 1 1]\n",
      "  [2 2 2]\n",
      "  [3 3 3]]\n",
      "\n",
      " [[0 1 2]\n",
      "  [0 1 2]\n",
      "  [0 1 2]\n",
      "  [0 1 2]]]\n",
      "[array([[1, 0, 2],\n",
      "       [1, 2, 1],\n",
      "       [2, 0, 0],\n",
      "       [0, 2, 2]], dtype=int64), array([[0, 0, 0],\n",
      "       [1, 1, 1],\n",
      "       [2, 2, 2],\n",
      "       [3, 3, 3]]), array([[0, 1, 2],\n",
      "       [0, 1, 2],\n",
      "       [0, 1, 2],\n",
      "       [0, 1, 2]])]\n"
     ]
    },
    {
     "data": {
      "text/plain": "array([[[0., 5., 0.],\n        [0., 0., 0.],\n        [0., 8., 7.],\n        [2., 0., 0.]],\n\n       [[8., 0., 0.],\n        [4., 0., 5.],\n        [0., 0., 0.],\n        [0., 0., 0.]],\n\n       [[0., 0., 7.],\n        [0., 9., 0.],\n        [6., 0., 0.],\n        [0., 8., 9.]]])"
     },
     "execution_count": 155,
     "metadata": {},
     "output_type": "execute_result"
    }
   ],
   "source": [
    "dx = m.backward(y)\n",
    "dx"
   ],
   "metadata": {
    "collapsed": false,
    "ExecuteTime": {
     "end_time": "2023-08-11T16:56:07.914950300Z",
     "start_time": "2023-08-11T16:56:07.860923Z"
    }
   },
   "id": "8d8fd20c23558020"
  }
 ],
 "metadata": {
  "kernelspec": {
   "display_name": "Python 3",
   "language": "python",
   "name": "python3"
  },
  "language_info": {
   "codemirror_mode": {
    "name": "ipython",
    "version": 2
   },
   "file_extension": ".py",
   "mimetype": "text/x-python",
   "name": "python",
   "nbconvert_exporter": "python",
   "pygments_lexer": "ipython2",
   "version": "2.7.6"
  }
 },
 "nbformat": 4,
 "nbformat_minor": 5
}

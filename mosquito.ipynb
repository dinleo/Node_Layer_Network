{
 "cells": [
  {
   "cell_type": "code",
   "execution_count": 8,
   "metadata": {
    "collapsed": true,
    "ExecuteTime": {
     "end_time": "2023-10-08T07:28:15.828061Z",
     "start_time": "2023-10-08T07:28:15.823069Z"
    }
   },
   "outputs": [],
   "source": [
    "import sys\n",
    "import os\n",
    "\n",
    "from Networks.MLP import MLP\n",
    "from Networks.CNN import CNN\n",
    "\n",
    "import matplotlib.pyplot as plt\n",
    "from dataset.mnist import load_mnist\n",
    "from Layers.optimizer import *\n",
    "from Layers.util import smooth_curve\n",
    "import torch\n",
    "import pandas as pd\n",
    "try:\n",
    "    import cupy as np\n",
    "    py = 'cupy'\n",
    "except ImportError:\n",
    "    import numpy as np\n",
    "    py = 'numpy'\n",
    "import time\n"
   ]
  },
  {
   "cell_type": "code",
   "execution_count": 9,
   "outputs": [
    {
     "name": "stdout",
     "output_type": "stream",
     "text": [
      "(101, 3, 224, 224)\n"
     ]
    }
   ],
   "source": [
    "# 열고자 하는 .pt 파일 경로를 지정합니다.\n",
    "file_path = \"/Users/leo/Code/AI/Node_Layer_Network/dataset/mosquito/tensor_image.pt\"\n",
    "\n",
    "# .pt 파일을 엽니다.\n",
    "loaded_tensor = torch.load(file_path)\n",
    "loaded_tensor = loaded_tensor.numpy()\n",
    "\n",
    "# 로드한 텐서를 사용하거나 출력합니다.\n",
    "print(loaded_tensor.shape)"
   ],
   "metadata": {
    "collapsed": false,
    "ExecuteTime": {
     "end_time": "2023-10-08T07:28:15.950339Z",
     "start_time": "2023-10-08T07:28:15.828575Z"
    }
   }
  },
  {
   "cell_type": "code",
   "execution_count": 10,
   "outputs": [
    {
     "name": "stdout",
     "output_type": "stream",
     "text": [
      "0        1\n",
      "1        1\n",
      "2        1\n",
      "3        1\n",
      "4        3\n",
      "        ..\n",
      "10352    1\n",
      "10353    1\n",
      "10354    1\n",
      "10355    1\n",
      "10356    3\n",
      "Name: class_label, Length: 10357, dtype: int64\n"
     ]
    }
   ],
   "source": [
    "csv_file_path = \"/Users/leo/Code/AI/Node_Layer_Network/dataset/mosquito/phase2_train_v0.csv\"\n",
    "\n",
    "# CSV 파일을 pandas 데이터프레임으로 읽습니다.\n",
    "data = pd.read_csv(csv_file_path)\n",
    "\n",
    "# 'class_label' 열을 NumPy ndarray로 변환합니다.\n",
    "class_labels = data['class_label'][:101]\n",
    "class_num = {\n",
    "    \"aegypti\":      0,\n",
    "    \"albopictus\":   1,\n",
    "    \"anopheles\":    2,\n",
    "    \"culex\":        3,\n",
    "    \"culiseta\":     4,\n",
    "    \"japonicus/koreicus\": 5\n",
    "}\n",
    "class_labels = class_labels.map(class_num)\n",
    "class_labels.to_numpy()\n",
    "\n",
    "# 결과를 확인합니다.\n",
    "print(class_labels)"
   ],
   "metadata": {
    "collapsed": false,
    "ExecuteTime": {
     "end_time": "2023-10-08T07:28:15.969049Z",
     "start_time": "2023-10-08T07:28:15.952724Z"
    }
   }
  },
  {
   "cell_type": "code",
   "execution_count": 11,
   "outputs": [],
   "source": [
    "x_train = loaded_tensor\n",
    "t_train = class_labels\n",
    "x_test = loaded_tensor\n",
    "t_test = class_labels\n",
    "\n",
    "train_size = x_train.shape[0]\n",
    "test_size = x_test.shape[0]\n",
    "batch_size = 20\n",
    "max_iterations = 50\n",
    "print_iter = 1\n",
    "mi = np.arange(max_iterations)"
   ],
   "metadata": {
    "collapsed": false,
    "ExecuteTime": {
     "end_time": "2023-10-08T07:28:15.997981Z",
     "start_time": "2023-10-08T07:28:15.970398Z"
    }
   }
  },
  {
   "cell_type": "code",
   "execution_count": 12,
   "outputs": [],
   "source": [
    "def test(test_list, max_acc=None):\n",
    "    networks = {}\n",
    "    train_acc = {}\n",
    "    train_loss = {}\n",
    "    test_acc = {}\n",
    "    test_loss = {}\n",
    "    optimizer = {}\n",
    "    total_step = {}\n",
    "    time_record = {}\n",
    "    print('Training with [' + py + ']\\n')\n",
    "    for key in test_list.keys():\n",
    "        # 기록 리스트 생성\n",
    "        train_acc[key] = []\n",
    "        train_loss[key] = []\n",
    "        test_acc[key] = []\n",
    "        test_loss[key] = []\n",
    "        total_step[key] = 0\n",
    "        time_record[key] = 0\n",
    "\n",
    "        # nSigmoid 경우 파라미터\n",
    "        # key == 'nSigmoid_8' -> act = nSigmoid, threshold = 8\n",
    "        networks[key] = test_list[key]['network']\n",
    "\n",
    "        # optimizer 생성\n",
    "        opt = test_list[key]['opt']\n",
    "        lr = test_list[key]['lr']\n",
    "        if opt == 'SGD':\n",
    "            optimizer[key] = SGD(lr)\n",
    "        elif opt == 'Momentum':\n",
    "            optimizer[key] = Momentum(lr)\n",
    "        elif opt == 'AdaGrad':\n",
    "            optimizer[key] = AdaGrad(lr)\n",
    "        elif opt == 'Adam':\n",
    "            optimizer[key] = Adam(lr)\n",
    "        else:\n",
    "            assert 'no opt' + opt\n",
    "\n",
    "    # 파라미터 통일 셋팅\n",
    "    # networks1 = networks['1']\n",
    "    # networks2 = networks['2']\n",
    "    # for k in networks1.params.keys():\n",
    "    #     for i in range(networks1.params[k].shape[0]):\n",
    "    #         networks1.params[k][i] = networks2.params[k][i].copy()\n",
    "    # print(np.max(networks['1'].params['W1'] - networks['2'].params['W1']))\n",
    "    # 학습\n",
    "    for i in range(max_iterations):\n",
    "        if 0 not in total_step.values():\n",
    "            print(\"All test list training Done\\nStep: \" + str(i))\n",
    "            break\n",
    "\n",
    "        # mini-batch train\n",
    "        batch_mask = np.random.choice(train_size, batch_size)\n",
    "        x_batch = x_train[batch_mask]\n",
    "        t_batch = t_train[batch_mask]\n",
    "\n",
    "        # mini-batch test\n",
    "        batch_mask_t = np.random.choice(test_size, batch_size)\n",
    "        x_batch_t = x_test[batch_mask_t]\n",
    "        t_batch_t = t_test[batch_mask_t]\n",
    "\n",
    "        # print_iter 회마다 경과 출력\n",
    "        if i % print_iter == 0:\n",
    "            print( \"=\"*15 + \"iteration:\" + str(i) + \"=\"*15)\n",
    "            print(\"{:^9}|{:^9}|{:^9}|{:^9}\".format('model','time','acc','loss'))\n",
    "\n",
    "        # 학습 & 추론 & 기록\n",
    "        for key in test_list.keys():\n",
    "            if total_step[key] != 0:\n",
    "                # Max acc 에 도달해 학습이 끝난 test model\n",
    "                continue\n",
    "            else:\n",
    "                start = time.time()\n",
    "                # CV 모델 데이터 처리\n",
    "                if isinstance(networks[key], CNN):\n",
    "                    x_batch = x_batch.reshape(-1, 3, 224, 224)\n",
    "                    x_batch_t = x_batch_t.reshape(-1, 3, 224, 224)\n",
    "\n",
    "                # 학습(역전파)\n",
    "                grads = networks[key].gradient(x_batch, t_batch)\n",
    "                optimizer[key].update(networks[key].params, grads)\n",
    "\n",
    "                # 추론(순전파)\n",
    "                tr_acc, tr_loss = networks[key].acc_and_loss(x_batch, t_batch)\n",
    "                ts_acc, ts_loss = networks[key].acc_and_loss(x_batch_t, t_batch_t)\n",
    "\n",
    "                # 기록\n",
    "                if py == 'cupy':\n",
    "                    tr_acc = tr_acc.get()\n",
    "                    tr_loss = tr_loss.get()\n",
    "                    ts_acc = ts_acc.get()\n",
    "                    ts_loss = ts_loss.get()\n",
    "                train_acc[key].append(tr_acc)\n",
    "                train_loss[key].append(tr_loss)\n",
    "                test_acc[key].append(ts_acc)\n",
    "                test_loss[key].append(ts_loss)\n",
    "                end = time.time()\n",
    "                time_record[key] += (end-start)\n",
    "\n",
    "                # max accuracy 도달 해당 모델 학습 종료\n",
    "                if max_acc and max_acc <= ts_acc:\n",
    "                    total_step[key] = i\n",
    "                    print(key + \" training end!\\nacc : \" + str(ts_acc) + \" step: \" + str(i))\n",
    "\n",
    "                # print_iter 회마다 경과 출력\n",
    "                if i % print_iter == 0:\n",
    "                    print(\"{:^9}| {:0<7.3f} | {:0<.5f} | {:0<.5f}\".format(key, time_record[key], ts_acc, ts_loss))\n",
    "\n",
    "    return train_acc, train_loss, test_acc, test_loss, total_step\n",
    "\n",
    "\n",
    "def plot(label, datas, t_list, *y_lim):\n",
    "    for key in t_list:\n",
    "        plt.plot(smooth_curve(datas[key]), markevery=50, label=key)\n",
    "    plt.xlabel(\"iterations\")\n",
    "    plt.ylabel(label)\n",
    "    if y_lim:\n",
    "        plt.ylim(y_lim)\n",
    "    plt.legend()\n",
    "    plt.show()"
   ],
   "metadata": {
    "collapsed": false,
    "ExecuteTime": {
     "end_time": "2023-10-08T07:28:16.007486Z",
     "start_time": "2023-10-08T07:28:15.984248Z"
    }
   }
  },
  {
   "cell_type": "code",
   "execution_count": 13,
   "outputs": [],
   "source": [
    "# net1 = MLP(input_size=784, hidden_size_list=[100, 100, 100, 100], output_size=10,\n",
    "#            use_dropout=False, dropout_ratio=0.5, use_batchnorm=True)\n",
    "# net1 = MLP(input_size=784, hidden_size_list=[100, 100, 100, 100], output_size=10,\n",
    "#             use_dropout=True, dropout_ratio=0.5, use_batchnorm=False)\n",
    "net2 = CNN(model='CNN3', input_dim=(3, 224, 224), output_size=6)\n",
    "# net3 = CNN(model='CNN8', use_batchnorm=True)\n",
    "# net3 = CNN(model='VGG11', use_batchnorm=True)\n",
    "# net4 = CNN(dropout_ratio=0.5, use_batchnorm=True)"
   ],
   "metadata": {
    "collapsed": false,
    "ExecuteTime": {
     "end_time": "2023-10-08T07:28:17.654891Z",
     "start_time": "2023-10-08T07:28:15.988115Z"
    }
   }
  },
  {
   "cell_type": "code",
   "execution_count": 14,
   "outputs": [
    {
     "name": "stdout",
     "output_type": "stream",
     "text": [
      "Training with [numpy]\n",
      "\n",
      "===============iteration:0===============\n",
      "  model  |  time   |   acc   |  loss   \n",
      "   CNN   | 13.8960 | 0.40000 | 9.67086\n",
      "===============iteration:1===============\n",
      "  model  |  time   |   acc   |  loss   \n",
      "   CNN   | 26.3110 | 0.55000 | 7.25314\n",
      "===============iteration:2===============\n",
      "  model  |  time   |   acc   |  loss   \n",
      "   CNN   | 37.4810 | 0.50000 | 8.05905\n",
      "===============iteration:3===============\n",
      "  model  |  time   |   acc   |  loss   \n",
      "   CNN   | 48.6940 | 0.30000 | 11.28267\n",
      "===============iteration:4===============\n",
      "  model  |  time   |   acc   |  loss   \n",
      "   CNN   | 59.9400 | 0.40000 | 9.67086\n",
      "===============iteration:5===============\n",
      "  model  |  time   |   acc   |  loss   \n",
      "   CNN   | 71.3750 | 0.40000 | 9.67086\n",
      "===============iteration:6===============\n",
      "  model  |  time   |   acc   |  loss   \n",
      "   CNN   | 82.6620 | 0.45000 | 8.86495\n",
      "===============iteration:7===============\n",
      "  model  |  time   |   acc   |  loss   \n",
      "   CNN   | 93.8930 | 0.35000 | 10.47676\n",
      "===============iteration:8===============\n",
      "  model  |  time   |   acc   |  loss   \n",
      "   CNN   | 105.556 | 0.65000 | 5.64133\n",
      "===============iteration:9===============\n",
      "  model  |  time   |   acc   |  loss   \n",
      "   CNN   | 116.498 | 0.35000 | 10.47676\n",
      "===============iteration:10===============\n",
      "  model  |  time   |   acc   |  loss   \n",
      "   CNN   | 127.741 | 0.55000 | 7.25314\n",
      "===============iteration:11===============\n",
      "  model  |  time   |   acc   |  loss   \n",
      "   CNN   | 139.150 | 0.55000 | 7.25314\n",
      "===============iteration:12===============\n",
      "  model  |  time   |   acc   |  loss   \n",
      "   CNN   | 149.992 | 0.35000 | 10.47676\n",
      "===============iteration:13===============\n",
      "  model  |  time   |   acc   |  loss   \n",
      "   CNN   | 161.118 | 0.55000 | 7.25314\n",
      "===============iteration:14===============\n",
      "  model  |  time   |   acc   |  loss   \n",
      "   CNN   | 172.228 | 0.40000 | 9.67086\n",
      "===============iteration:15===============\n",
      "  model  |  time   |   acc   |  loss   \n",
      "   CNN   | 183.456 | 0.45000 | 8.86495\n",
      "===============iteration:16===============\n",
      "  model  |  time   |   acc   |  loss   \n",
      "   CNN   | 194.683 | 0.40000 | 9.67086\n",
      "===============iteration:17===============\n",
      "  model  |  time   |   acc   |  loss   \n",
      "   CNN   | 206.574 | 0.30000 | 11.28267\n",
      "===============iteration:18===============\n",
      "  model  |  time   |   acc   |  loss   \n",
      "   CNN   | 218.966 | 0.45000 | 8.86495\n",
      "===============iteration:19===============\n",
      "  model  |  time   |   acc   |  loss   \n",
      "   CNN   | 231.288 | 0.35000 | 10.47676\n",
      "===============iteration:20===============\n",
      "  model  |  time   |   acc   |  loss   \n",
      "   CNN   | 243.302 | 0.40000 | 9.67086\n",
      "===============iteration:21===============\n",
      "  model  |  time   |   acc   |  loss   \n",
      "   CNN   | 255.500 | 0.35000 | 10.47676\n",
      "===============iteration:22===============\n",
      "  model  |  time   |   acc   |  loss   \n",
      "   CNN   | 267.184 | 0.55000 | 7.25314\n",
      "===============iteration:23===============\n",
      "  model  |  time   |   acc   |  loss   \n",
      "   CNN   | 279.954 | 0.55000 | 7.25314\n",
      "===============iteration:24===============\n",
      "  model  |  time   |   acc   |  loss   \n",
      "   CNN   | 292.186 | 0.45000 | 8.86495\n",
      "===============iteration:25===============\n",
      "  model  |  time   |   acc   |  loss   \n",
      "   CNN   | 303.679 | 0.55000 | 7.25314\n",
      "===============iteration:26===============\n",
      "  model  |  time   |   acc   |  loss   \n",
      "   CNN   | 314.813 | 0.25000 | 12.08857\n",
      "===============iteration:27===============\n",
      "  model  |  time   |   acc   |  loss   \n",
      "   CNN   | 325.636 | 0.35000 | 10.47676\n",
      "===============iteration:28===============\n",
      "  model  |  time   |   acc   |  loss   \n",
      "   CNN   | 336.495 | 0.50000 | 8.05905\n",
      "===============iteration:29===============\n",
      "  model  |  time   |   acc   |  loss   \n",
      "   CNN   | 347.169 | 0.60000 | 6.44724\n",
      "===============iteration:30===============\n",
      "  model  |  time   |   acc   |  loss   \n",
      "   CNN   | 358.282 | 0.35000 | 10.47676\n",
      "===============iteration:31===============\n",
      "  model  |  time   |   acc   |  loss   \n",
      "   CNN   | 369.562 | 0.30000 | 11.28267\n",
      "===============iteration:32===============\n",
      "  model  |  time   |   acc   |  loss   \n",
      "   CNN   | 380.628 | 0.20000 | 12.89448\n",
      "===============iteration:33===============\n",
      "  model  |  time   |   acc   |  loss   \n",
      "   CNN   | 391.798 | 0.40000 | 9.67086\n",
      "===============iteration:34===============\n",
      "  model  |  time   |   acc   |  loss   \n",
      "   CNN   | 402.323 | 0.50000 | 8.05905\n",
      "===============iteration:35===============\n",
      "  model  |  time   |   acc   |  loss   \n",
      "   CNN   | 413.455 | 0.50000 | 8.05905\n",
      "===============iteration:36===============\n",
      "  model  |  time   |   acc   |  loss   \n",
      "   CNN   | 424.028 | 0.50000 | 8.05905\n",
      "===============iteration:37===============\n",
      "  model  |  time   |   acc   |  loss   \n",
      "   CNN   | 434.738 | 0.30000 | 11.28267\n",
      "===============iteration:38===============\n",
      "  model  |  time   |   acc   |  loss   \n",
      "   CNN   | 445.702 | 0.40000 | 9.67086\n",
      "===============iteration:39===============\n",
      "  model  |  time   |   acc   |  loss   \n",
      "   CNN   | 456.956 | 0.45000 | 8.86495\n",
      "===============iteration:40===============\n",
      "  model  |  time   |   acc   |  loss   \n",
      "   CNN   | 467.611 | 0.55000 | 7.25314\n",
      "===============iteration:41===============\n",
      "  model  |  time   |   acc   |  loss   \n",
      "   CNN   | 478.204 | 0.75000 | 4.02952\n",
      "===============iteration:42===============\n",
      "  model  |  time   |   acc   |  loss   \n",
      "   CNN   | 488.712 | 0.20000 | 12.89448\n",
      "===============iteration:43===============\n",
      "  model  |  time   |   acc   |  loss   \n",
      "   CNN   | 499.553 | 0.45000 | 8.86495\n",
      "===============iteration:44===============\n",
      "  model  |  time   |   acc   |  loss   \n",
      "   CNN   | 510.347 | 0.45000 | 8.86495\n",
      "===============iteration:45===============\n",
      "  model  |  time   |   acc   |  loss   \n",
      "   CNN   | 521.245 | 0.45000 | 8.86495\n",
      "===============iteration:46===============\n",
      "  model  |  time   |   acc   |  loss   \n",
      "   CNN   | 533.252 | 0.25000 | 12.08857\n",
      "===============iteration:47===============\n",
      "  model  |  time   |   acc   |  loss   \n",
      "   CNN   | 544.322 | 0.25000 | 12.08857\n",
      "===============iteration:48===============\n",
      "  model  |  time   |   acc   |  loss   \n",
      "   CNN   | 555.755 | 0.20000 | 12.89448\n",
      "===============iteration:49===============\n",
      "  model  |  time   |   acc   |  loss   \n",
      "   CNN   | 566.590 | 0.45000 | 8.86495\n"
     ]
    }
   ],
   "source": [
    "test_list = {\n",
    "             # 'MLP':\n",
    "             #     {'network':net1,'opt':'AdaGrad','lr':0.01},\n",
    "             # 'SCV':\n",
    "             #     {'network':net2,'opt':'AdaGrad','lr':0.01},\n",
    "             'CNN':\n",
    "                 {'network':net2,'opt':'AdaGrad','lr':0.01},\n",
    "             # 'CNN_both':\n",
    "             #     {'network':net4,'opt':'AdaGrad','lr':0.01},\n",
    "             }\n",
    "\n",
    "# train_acc, train_loss, test_acc, test_loss, total_step = test(test_list)\n",
    "train_acc, train_loss, test_acc, test_loss, total_step = test(test_list, 0.98)"
   ],
   "metadata": {
    "collapsed": false,
    "ExecuteTime": {
     "end_time": "2023-10-08T07:37:45.116316Z",
     "start_time": "2023-10-08T07:28:17.656147Z"
    }
   }
  },
  {
   "cell_type": "code",
   "execution_count": 15,
   "outputs": [
    {
     "data": {
      "text/plain": "<Figure size 640x480 with 1 Axes>",
      "image/png": "[encoded data removed]"
     },
     "metadata": {},
     "output_type": "display_data"
    }
   ],
   "source": [
    "plot('test_acc', test_acc , test_list)"
   ],
   "metadata": {
    "collapsed": false,
    "ExecuteTime": {
     "end_time": "2023-10-08T07:37:45.446477Z",
     "start_time": "2023-10-08T07:37:45.122234Z"
    }
   }
  },
  {
   "cell_type": "code",
   "execution_count": 16,
   "outputs": [
    {
     "data": {
      "text/plain": "<Figure size 640x480 with 1 Axes>",
      "image/png": "[encoded data removed]"
     },
     "metadata": {},
     "output_type": "display_data"
    }
   ],
   "source": [
    "plot('test_loss', test_loss, test_list)"
   ],
   "metadata": {
    "collapsed": false,
    "ExecuteTime": {
     "end_time": "2023-10-08T07:37:45.656462Z",
     "start_time": "2023-10-08T07:37:45.443412Z"
    }
   }
  },
  {
   "cell_type": "code",
   "execution_count": 17,
   "outputs": [
    {
     "name": "stdout",
     "output_type": "stream",
     "text": [
      "{'CNN': 0}\n"
     ]
    }
   ],
   "source": [
    "print(total_step)"
   ],
   "metadata": {
    "collapsed": false,
    "ExecuteTime": {
     "end_time": "2023-10-08T07:37:45.656866Z",
     "start_time": "2023-10-08T07:37:45.556638Z"
    }
   }
  }
 ],
 "metadata": {
  "kernelspec": {
   "display_name": "Python 3",
   "language": "python",
   "name": "python3"
  },
  "language_info": {
   "codemirror_mode": {
    "name": "ipython",
    "version": 2
   },
   "file_extension": ".py",
   "mimetype": "text/x-python",
   "name": "python",
   "nbconvert_exporter": "python",
   "pygments_lexer": "ipython2",
   "version": "2.7.6"
  }
 },
 "nbformat": 4,
 "nbformat_minor": 0
}
